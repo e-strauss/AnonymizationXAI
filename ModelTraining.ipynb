{
  "nbformat": 4,
  "nbformat_minor": 0,
  "metadata": {
    "colab": {
      "provenance": [],
      "gpuType": "T4"
    },
    "kernelspec": {
      "name": "python3",
      "display_name": "Python 3"
    },
    "language_info": {
      "name": "python"
    },
    "widgets": {
      "application/vnd.jupyter.widget-state+json": {
        "a339b977bdfb44f2adc73416e0befe8d": {
          "model_module": "@jupyter-widgets/controls",
          "model_name": "HBoxModel",
          "model_module_version": "1.5.0",
          "state": {
            "_dom_classes": [],
            "_model_module": "@jupyter-widgets/controls",
            "_model_module_version": "1.5.0",
            "_model_name": "HBoxModel",
            "_view_count": null,
            "_view_module": "@jupyter-widgets/controls",
            "_view_module_version": "1.5.0",
            "_view_name": "HBoxView",
            "box_style": "",
            "children": [
              "IPY_MODEL_cc7a871199464c35b2d7a60709e0d753",
              "IPY_MODEL_6d03f89e897b45c4b9a56da6092969a1",
              "IPY_MODEL_ea82bcbcfdb640da9bae70d6564f3285"
            ],
            "layout": "IPY_MODEL_617f2c81d46543f1923d6cd7b6a8454a"
          }
        },
        "cc7a871199464c35b2d7a60709e0d753": {
          "model_module": "@jupyter-widgets/controls",
          "model_name": "HTMLModel",
          "model_module_version": "1.5.0",
          "state": {
            "_dom_classes": [],
            "_model_module": "@jupyter-widgets/controls",
            "_model_module_version": "1.5.0",
            "_model_name": "HTMLModel",
            "_view_count": null,
            "_view_module": "@jupyter-widgets/controls",
            "_view_module_version": "1.5.0",
            "_view_name": "HTMLView",
            "description": "",
            "description_tooltip": null,
            "layout": "IPY_MODEL_37ca5aa142e041fab0ba07d7140a998b",
            "placeholder": "​",
            "style": "IPY_MODEL_59dad765181c4bf3ac11b1a40c62db5f",
            "value": "Map: 100%"
          }
        },
        "6d03f89e897b45c4b9a56da6092969a1": {
          "model_module": "@jupyter-widgets/controls",
          "model_name": "FloatProgressModel",
          "model_module_version": "1.5.0",
          "state": {
            "_dom_classes": [],
            "_model_module": "@jupyter-widgets/controls",
            "_model_module_version": "1.5.0",
            "_model_name": "FloatProgressModel",
            "_view_count": null,
            "_view_module": "@jupyter-widgets/controls",
            "_view_module_version": "1.5.0",
            "_view_name": "ProgressView",
            "bar_style": "success",
            "description": "",
            "description_tooltip": null,
            "layout": "IPY_MODEL_886a3a8f28a646eb9a8c09a27f7d920c",
            "max": 1016,
            "min": 0,
            "orientation": "horizontal",
            "style": "IPY_MODEL_6629bcae0ba64a5ea297bab274fbd271",
            "value": 1016
          }
        },
        "ea82bcbcfdb640da9bae70d6564f3285": {
          "model_module": "@jupyter-widgets/controls",
          "model_name": "HTMLModel",
          "model_module_version": "1.5.0",
          "state": {
            "_dom_classes": [],
            "_model_module": "@jupyter-widgets/controls",
            "_model_module_version": "1.5.0",
            "_model_name": "HTMLModel",
            "_view_count": null,
            "_view_module": "@jupyter-widgets/controls",
            "_view_module_version": "1.5.0",
            "_view_name": "HTMLView",
            "description": "",
            "description_tooltip": null,
            "layout": "IPY_MODEL_81ccb96f6dda4f72af8501281993aefe",
            "placeholder": "​",
            "style": "IPY_MODEL_1d0562749973479eaa5a03e66b0295bf",
            "value": " 1016/1016 [00:04&lt;00:00, 247.00 examples/s]"
          }
        },
        "617f2c81d46543f1923d6cd7b6a8454a": {
          "model_module": "@jupyter-widgets/base",
          "model_name": "LayoutModel",
          "model_module_version": "1.2.0",
          "state": {
            "_model_module": "@jupyter-widgets/base",
            "_model_module_version": "1.2.0",
            "_model_name": "LayoutModel",
            "_view_count": null,
            "_view_module": "@jupyter-widgets/base",
            "_view_module_version": "1.2.0",
            "_view_name": "LayoutView",
            "align_content": null,
            "align_items": null,
            "align_self": null,
            "border": null,
            "bottom": null,
            "display": null,
            "flex": null,
            "flex_flow": null,
            "grid_area": null,
            "grid_auto_columns": null,
            "grid_auto_flow": null,
            "grid_auto_rows": null,
            "grid_column": null,
            "grid_gap": null,
            "grid_row": null,
            "grid_template_areas": null,
            "grid_template_columns": null,
            "grid_template_rows": null,
            "height": null,
            "justify_content": null,
            "justify_items": null,
            "left": null,
            "margin": null,
            "max_height": null,
            "max_width": null,
            "min_height": null,
            "min_width": null,
            "object_fit": null,
            "object_position": null,
            "order": null,
            "overflow": null,
            "overflow_x": null,
            "overflow_y": null,
            "padding": null,
            "right": null,
            "top": null,
            "visibility": null,
            "width": null
          }
        },
        "37ca5aa142e041fab0ba07d7140a998b": {
          "model_module": "@jupyter-widgets/base",
          "model_name": "LayoutModel",
          "model_module_version": "1.2.0",
          "state": {
            "_model_module": "@jupyter-widgets/base",
            "_model_module_version": "1.2.0",
            "_model_name": "LayoutModel",
            "_view_count": null,
            "_view_module": "@jupyter-widgets/base",
            "_view_module_version": "1.2.0",
            "_view_name": "LayoutView",
            "align_content": null,
            "align_items": null,
            "align_self": null,
            "border": null,
            "bottom": null,
            "display": null,
            "flex": null,
            "flex_flow": null,
            "grid_area": null,
            "grid_auto_columns": null,
            "grid_auto_flow": null,
            "grid_auto_rows": null,
            "grid_column": null,
            "grid_gap": null,
            "grid_row": null,
            "grid_template_areas": null,
            "grid_template_columns": null,
            "grid_template_rows": null,
            "height": null,
            "justify_content": null,
            "justify_items": null,
            "left": null,
            "margin": null,
            "max_height": null,
            "max_width": null,
            "min_height": null,
            "min_width": null,
            "object_fit": null,
            "object_position": null,
            "order": null,
            "overflow": null,
            "overflow_x": null,
            "overflow_y": null,
            "padding": null,
            "right": null,
            "top": null,
            "visibility": null,
            "width": null
          }
        },
        "59dad765181c4bf3ac11b1a40c62db5f": {
          "model_module": "@jupyter-widgets/controls",
          "model_name": "DescriptionStyleModel",
          "model_module_version": "1.5.0",
          "state": {
            "_model_module": "@jupyter-widgets/controls",
            "_model_module_version": "1.5.0",
            "_model_name": "DescriptionStyleModel",
            "_view_count": null,
            "_view_module": "@jupyter-widgets/base",
            "_view_module_version": "1.2.0",
            "_view_name": "StyleView",
            "description_width": ""
          }
        },
        "886a3a8f28a646eb9a8c09a27f7d920c": {
          "model_module": "@jupyter-widgets/base",
          "model_name": "LayoutModel",
          "model_module_version": "1.2.0",
          "state": {
            "_model_module": "@jupyter-widgets/base",
            "_model_module_version": "1.2.0",
            "_model_name": "LayoutModel",
            "_view_count": null,
            "_view_module": "@jupyter-widgets/base",
            "_view_module_version": "1.2.0",
            "_view_name": "LayoutView",
            "align_content": null,
            "align_items": null,
            "align_self": null,
            "border": null,
            "bottom": null,
            "display": null,
            "flex": null,
            "flex_flow": null,
            "grid_area": null,
            "grid_auto_columns": null,
            "grid_auto_flow": null,
            "grid_auto_rows": null,
            "grid_column": null,
            "grid_gap": null,
            "grid_row": null,
            "grid_template_areas": null,
            "grid_template_columns": null,
            "grid_template_rows": null,
            "height": null,
            "justify_content": null,
            "justify_items": null,
            "left": null,
            "margin": null,
            "max_height": null,
            "max_width": null,
            "min_height": null,
            "min_width": null,
            "object_fit": null,
            "object_position": null,
            "order": null,
            "overflow": null,
            "overflow_x": null,
            "overflow_y": null,
            "padding": null,
            "right": null,
            "top": null,
            "visibility": null,
            "width": null
          }
        },
        "6629bcae0ba64a5ea297bab274fbd271": {
          "model_module": "@jupyter-widgets/controls",
          "model_name": "ProgressStyleModel",
          "model_module_version": "1.5.0",
          "state": {
            "_model_module": "@jupyter-widgets/controls",
            "_model_module_version": "1.5.0",
            "_model_name": "ProgressStyleModel",
            "_view_count": null,
            "_view_module": "@jupyter-widgets/base",
            "_view_module_version": "1.2.0",
            "_view_name": "StyleView",
            "bar_color": null,
            "description_width": ""
          }
        },
        "81ccb96f6dda4f72af8501281993aefe": {
          "model_module": "@jupyter-widgets/base",
          "model_name": "LayoutModel",
          "model_module_version": "1.2.0",
          "state": {
            "_model_module": "@jupyter-widgets/base",
            "_model_module_version": "1.2.0",
            "_model_name": "LayoutModel",
            "_view_count": null,
            "_view_module": "@jupyter-widgets/base",
            "_view_module_version": "1.2.0",
            "_view_name": "LayoutView",
            "align_content": null,
            "align_items": null,
            "align_self": null,
            "border": null,
            "bottom": null,
            "display": null,
            "flex": null,
            "flex_flow": null,
            "grid_area": null,
            "grid_auto_columns": null,
            "grid_auto_flow": null,
            "grid_auto_rows": null,
            "grid_column": null,
            "grid_gap": null,
            "grid_row": null,
            "grid_template_areas": null,
            "grid_template_columns": null,
            "grid_template_rows": null,
            "height": null,
            "justify_content": null,
            "justify_items": null,
            "left": null,
            "margin": null,
            "max_height": null,
            "max_width": null,
            "min_height": null,
            "min_width": null,
            "object_fit": null,
            "object_position": null,
            "order": null,
            "overflow": null,
            "overflow_x": null,
            "overflow_y": null,
            "padding": null,
            "right": null,
            "top": null,
            "visibility": null,
            "width": null
          }
        },
        "1d0562749973479eaa5a03e66b0295bf": {
          "model_module": "@jupyter-widgets/controls",
          "model_name": "DescriptionStyleModel",
          "model_module_version": "1.5.0",
          "state": {
            "_model_module": "@jupyter-widgets/controls",
            "_model_module_version": "1.5.0",
            "_model_name": "DescriptionStyleModel",
            "_view_count": null,
            "_view_module": "@jupyter-widgets/base",
            "_view_module_version": "1.2.0",
            "_view_name": "StyleView",
            "description_width": ""
          }
        },
        "b2fdbe54ebac4838b844480d5f5a3761": {
          "model_module": "@jupyter-widgets/controls",
          "model_name": "HBoxModel",
          "model_module_version": "1.5.0",
          "state": {
            "_dom_classes": [],
            "_model_module": "@jupyter-widgets/controls",
            "_model_module_version": "1.5.0",
            "_model_name": "HBoxModel",
            "_view_count": null,
            "_view_module": "@jupyter-widgets/controls",
            "_view_module_version": "1.5.0",
            "_view_name": "HBoxView",
            "box_style": "",
            "children": [
              "IPY_MODEL_c0a9df01b14b478b9752e0e42211e431",
              "IPY_MODEL_bd6e043fb81240eeb529baa60ba999d5",
              "IPY_MODEL_9fdf680f415f48dc8cfb4115fdfaa488"
            ],
            "layout": "IPY_MODEL_eb140d68ba714a3eb5028bc0775e6134"
          }
        },
        "c0a9df01b14b478b9752e0e42211e431": {
          "model_module": "@jupyter-widgets/controls",
          "model_name": "HTMLModel",
          "model_module_version": "1.5.0",
          "state": {
            "_dom_classes": [],
            "_model_module": "@jupyter-widgets/controls",
            "_model_module_version": "1.5.0",
            "_model_name": "HTMLModel",
            "_view_count": null,
            "_view_module": "@jupyter-widgets/controls",
            "_view_module_version": "1.5.0",
            "_view_name": "HTMLView",
            "description": "",
            "description_tooltip": null,
            "layout": "IPY_MODEL_0003c2fa8a5c4f7fb28489f76d8bde1e",
            "placeholder": "​",
            "style": "IPY_MODEL_0e198c454a424c7d9d2f01834d6fc0bd",
            "value": "Map: 100%"
          }
        },
        "bd6e043fb81240eeb529baa60ba999d5": {
          "model_module": "@jupyter-widgets/controls",
          "model_name": "FloatProgressModel",
          "model_module_version": "1.5.0",
          "state": {
            "_dom_classes": [],
            "_model_module": "@jupyter-widgets/controls",
            "_model_module_version": "1.5.0",
            "_model_name": "FloatProgressModel",
            "_view_count": null,
            "_view_module": "@jupyter-widgets/controls",
            "_view_module_version": "1.5.0",
            "_view_name": "ProgressView",
            "bar_style": "success",
            "description": "",
            "description_tooltip": null,
            "layout": "IPY_MODEL_1c8e503f8cb74b0c9daf6d9d09e8dff0",
            "max": 436,
            "min": 0,
            "orientation": "horizontal",
            "style": "IPY_MODEL_bd0b2a2e3e554b78a1ba3c182ab91fcc",
            "value": 436
          }
        },
        "9fdf680f415f48dc8cfb4115fdfaa488": {
          "model_module": "@jupyter-widgets/controls",
          "model_name": "HTMLModel",
          "model_module_version": "1.5.0",
          "state": {
            "_dom_classes": [],
            "_model_module": "@jupyter-widgets/controls",
            "_model_module_version": "1.5.0",
            "_model_name": "HTMLModel",
            "_view_count": null,
            "_view_module": "@jupyter-widgets/controls",
            "_view_module_version": "1.5.0",
            "_view_name": "HTMLView",
            "description": "",
            "description_tooltip": null,
            "layout": "IPY_MODEL_671a76efd4a44d04a103d61962f2edf4",
            "placeholder": "​",
            "style": "IPY_MODEL_5e496dc5d60945e889ac038b101e79e6",
            "value": " 436/436 [00:01&lt;00:00, 244.28 examples/s]"
          }
        },
        "eb140d68ba714a3eb5028bc0775e6134": {
          "model_module": "@jupyter-widgets/base",
          "model_name": "LayoutModel",
          "model_module_version": "1.2.0",
          "state": {
            "_model_module": "@jupyter-widgets/base",
            "_model_module_version": "1.2.0",
            "_model_name": "LayoutModel",
            "_view_count": null,
            "_view_module": "@jupyter-widgets/base",
            "_view_module_version": "1.2.0",
            "_view_name": "LayoutView",
            "align_content": null,
            "align_items": null,
            "align_self": null,
            "border": null,
            "bottom": null,
            "display": null,
            "flex": null,
            "flex_flow": null,
            "grid_area": null,
            "grid_auto_columns": null,
            "grid_auto_flow": null,
            "grid_auto_rows": null,
            "grid_column": null,
            "grid_gap": null,
            "grid_row": null,
            "grid_template_areas": null,
            "grid_template_columns": null,
            "grid_template_rows": null,
            "height": null,
            "justify_content": null,
            "justify_items": null,
            "left": null,
            "margin": null,
            "max_height": null,
            "max_width": null,
            "min_height": null,
            "min_width": null,
            "object_fit": null,
            "object_position": null,
            "order": null,
            "overflow": null,
            "overflow_x": null,
            "overflow_y": null,
            "padding": null,
            "right": null,
            "top": null,
            "visibility": null,
            "width": null
          }
        },
        "0003c2fa8a5c4f7fb28489f76d8bde1e": {
          "model_module": "@jupyter-widgets/base",
          "model_name": "LayoutModel",
          "model_module_version": "1.2.0",
          "state": {
            "_model_module": "@jupyter-widgets/base",
            "_model_module_version": "1.2.0",
            "_model_name": "LayoutModel",
            "_view_count": null,
            "_view_module": "@jupyter-widgets/base",
            "_view_module_version": "1.2.0",
            "_view_name": "LayoutView",
            "align_content": null,
            "align_items": null,
            "align_self": null,
            "border": null,
            "bottom": null,
            "display": null,
            "flex": null,
            "flex_flow": null,
            "grid_area": null,
            "grid_auto_columns": null,
            "grid_auto_flow": null,
            "grid_auto_rows": null,
            "grid_column": null,
            "grid_gap": null,
            "grid_row": null,
            "grid_template_areas": null,
            "grid_template_columns": null,
            "grid_template_rows": null,
            "height": null,
            "justify_content": null,
            "justify_items": null,
            "left": null,
            "margin": null,
            "max_height": null,
            "max_width": null,
            "min_height": null,
            "min_width": null,
            "object_fit": null,
            "object_position": null,
            "order": null,
            "overflow": null,
            "overflow_x": null,
            "overflow_y": null,
            "padding": null,
            "right": null,
            "top": null,
            "visibility": null,
            "width": null
          }
        },
        "0e198c454a424c7d9d2f01834d6fc0bd": {
          "model_module": "@jupyter-widgets/controls",
          "model_name": "DescriptionStyleModel",
          "model_module_version": "1.5.0",
          "state": {
            "_model_module": "@jupyter-widgets/controls",
            "_model_module_version": "1.5.0",
            "_model_name": "DescriptionStyleModel",
            "_view_count": null,
            "_view_module": "@jupyter-widgets/base",
            "_view_module_version": "1.2.0",
            "_view_name": "StyleView",
            "description_width": ""
          }
        },
        "1c8e503f8cb74b0c9daf6d9d09e8dff0": {
          "model_module": "@jupyter-widgets/base",
          "model_name": "LayoutModel",
          "model_module_version": "1.2.0",
          "state": {
            "_model_module": "@jupyter-widgets/base",
            "_model_module_version": "1.2.0",
            "_model_name": "LayoutModel",
            "_view_count": null,
            "_view_module": "@jupyter-widgets/base",
            "_view_module_version": "1.2.0",
            "_view_name": "LayoutView",
            "align_content": null,
            "align_items": null,
            "align_self": null,
            "border": null,
            "bottom": null,
            "display": null,
            "flex": null,
            "flex_flow": null,
            "grid_area": null,
            "grid_auto_columns": null,
            "grid_auto_flow": null,
            "grid_auto_rows": null,
            "grid_column": null,
            "grid_gap": null,
            "grid_row": null,
            "grid_template_areas": null,
            "grid_template_columns": null,
            "grid_template_rows": null,
            "height": null,
            "justify_content": null,
            "justify_items": null,
            "left": null,
            "margin": null,
            "max_height": null,
            "max_width": null,
            "min_height": null,
            "min_width": null,
            "object_fit": null,
            "object_position": null,
            "order": null,
            "overflow": null,
            "overflow_x": null,
            "overflow_y": null,
            "padding": null,
            "right": null,
            "top": null,
            "visibility": null,
            "width": null
          }
        },
        "bd0b2a2e3e554b78a1ba3c182ab91fcc": {
          "model_module": "@jupyter-widgets/controls",
          "model_name": "ProgressStyleModel",
          "model_module_version": "1.5.0",
          "state": {
            "_model_module": "@jupyter-widgets/controls",
            "_model_module_version": "1.5.0",
            "_model_name": "ProgressStyleModel",
            "_view_count": null,
            "_view_module": "@jupyter-widgets/base",
            "_view_module_version": "1.2.0",
            "_view_name": "StyleView",
            "bar_color": null,
            "description_width": ""
          }
        },
        "671a76efd4a44d04a103d61962f2edf4": {
          "model_module": "@jupyter-widgets/base",
          "model_name": "LayoutModel",
          "model_module_version": "1.2.0",
          "state": {
            "_model_module": "@jupyter-widgets/base",
            "_model_module_version": "1.2.0",
            "_model_name": "LayoutModel",
            "_view_count": null,
            "_view_module": "@jupyter-widgets/base",
            "_view_module_version": "1.2.0",
            "_view_name": "LayoutView",
            "align_content": null,
            "align_items": null,
            "align_self": null,
            "border": null,
            "bottom": null,
            "display": null,
            "flex": null,
            "flex_flow": null,
            "grid_area": null,
            "grid_auto_columns": null,
            "grid_auto_flow": null,
            "grid_auto_rows": null,
            "grid_column": null,
            "grid_gap": null,
            "grid_row": null,
            "grid_template_areas": null,
            "grid_template_columns": null,
            "grid_template_rows": null,
            "height": null,
            "justify_content": null,
            "justify_items": null,
            "left": null,
            "margin": null,
            "max_height": null,
            "max_width": null,
            "min_height": null,
            "min_width": null,
            "object_fit": null,
            "object_position": null,
            "order": null,
            "overflow": null,
            "overflow_x": null,
            "overflow_y": null,
            "padding": null,
            "right": null,
            "top": null,
            "visibility": null,
            "width": null
          }
        },
        "5e496dc5d60945e889ac038b101e79e6": {
          "model_module": "@jupyter-widgets/controls",
          "model_name": "DescriptionStyleModel",
          "model_module_version": "1.5.0",
          "state": {
            "_model_module": "@jupyter-widgets/controls",
            "_model_module_version": "1.5.0",
            "_model_name": "DescriptionStyleModel",
            "_view_count": null,
            "_view_module": "@jupyter-widgets/base",
            "_view_module_version": "1.2.0",
            "_view_name": "StyleView",
            "description_width": ""
          }
        }
      }
    },
    "accelerator": "GPU"
  },
  "cells": [
    {
      "cell_type": "code",
      "source": [
        "!nvidia-smi"
      ],
      "metadata": {
        "colab": {
          "base_uri": "https://localhost:8080/"
        },
        "id": "F67dqW_Ys4wy",
        "outputId": "2d387dc5-fc75-4b87-fd14-1bbfa00c0d09"
      },
      "execution_count": 1,
      "outputs": [
        {
          "output_type": "stream",
          "name": "stdout",
          "text": [
            "Tue May 13 08:10:50 2025       \n",
            "+-----------------------------------------------------------------------------------------+\n",
            "| NVIDIA-SMI 550.54.15              Driver Version: 550.54.15      CUDA Version: 12.4     |\n",
            "|-----------------------------------------+------------------------+----------------------+\n",
            "| GPU  Name                 Persistence-M | Bus-Id          Disp.A | Volatile Uncorr. ECC |\n",
            "| Fan  Temp   Perf          Pwr:Usage/Cap |           Memory-Usage | GPU-Util  Compute M. |\n",
            "|                                         |                        |               MIG M. |\n",
            "|=========================================+========================+======================|\n",
            "|   0  Tesla T4                       Off |   00000000:00:04.0 Off |                    0 |\n",
            "| N/A   71C    P8             14W /   70W |       0MiB /  15360MiB |      0%      Default |\n",
            "|                                         |                        |                  N/A |\n",
            "+-----------------------------------------+------------------------+----------------------+\n",
            "                                                                                         \n",
            "+-----------------------------------------------------------------------------------------+\n",
            "| Processes:                                                                              |\n",
            "|  GPU   GI   CI        PID   Type   Process name                              GPU Memory |\n",
            "|        ID   ID                                                               Usage      |\n",
            "|=========================================================================================|\n",
            "|  No running processes found                                                             |\n",
            "+-----------------------------------------------------------------------------------------+\n"
          ]
        }
      ]
    },
    {
      "cell_type": "code",
      "execution_count": null,
      "metadata": {
        "id": "mzyW2yJmouQ7"
      },
      "outputs": [],
      "source": [
        "# Install dependencies\n",
        "!pip install transformers datasets scikit-learn\n",
        "!pip install sympy --upgrade\n",
        "!pip install datasets --upgrade"
      ]
    },
    {
      "cell_type": "code",
      "source": [
        "# Download anonymized_text.csv from GitHub\n",
        "!curl -L -o anonymized_text.csv https://raw.githubusercontent.com/e-strauss/AnonymizationXAI/master/DB-bio/anonymized_text_train.csv"
      ],
      "metadata": {
        "colab": {
          "base_uri": "https://localhost:8080/"
        },
        "id": "lxnfAHE-n_OQ",
        "outputId": "c7bbfc68-e0da-45a3-f63d-395e76557a82"
      },
      "execution_count": 91,
      "outputs": [
        {
          "output_type": "stream",
          "name": "stdout",
          "text": [
            "  % Total    % Received % Xferd  Average Speed   Time    Time     Time  Current\n",
            "                                 Dload  Upload   Total   Spent    Left  Speed\n",
            "100 2052k  100 2052k    0     0  4046k      0 --:--:-- --:--:-- --:--:-- 4040k\n"
          ]
        }
      ]
    },
    {
      "cell_type": "code",
      "source": [
        "import pandas as pd\n",
        "from datasets import Dataset\n",
        "from transformers import BertTokenizer, BertForSequenceClassification, TrainingArguments, Trainer\n",
        "from sklearn.model_selection import train_test_split\n",
        "import torch"
      ],
      "metadata": {
        "id": "3IRnIAU5o1Bs"
      },
      "execution_count": 92,
      "outputs": []
    },
    {
      "cell_type": "code",
      "source": [
        "# Load dataset\n",
        "df = pd.read_csv(\"/content/anonymized_text.csv\")\n",
        "df = df.rename(columns={\"anonymized\": \"label\"})\n",
        "df = df[[\"text\", \"label\"]]\n",
        "\n",
        "test_size = 0.3\n",
        "\n",
        "# train/test split\n",
        "train_texts, val_texts, train_labels, val_labels = train_test_split(\n",
        "    df[\"text\"].tolist(), df[\"label\"].tolist(), test_size=test_size, random_state=42\n",
        ")\n",
        "\n",
        "train_dataset = Dataset.from_dict({\"text\": train_texts, \"label\": train_labels})\n",
        "val_dataset = Dataset.from_dict({\"text\": val_texts, \"label\": val_labels})"
      ],
      "metadata": {
        "id": "E-oeCN05pvnT"
      },
      "execution_count": 93,
      "outputs": []
    },
    {
      "cell_type": "code",
      "source": [
        "df.shape, df.shape[0] * (1 - test_size)"
      ],
      "metadata": {
        "colab": {
          "base_uri": "https://localhost:8080/"
        },
        "id": "ObnLvu8Fz4od",
        "outputId": "2e8f84e3-9895-47ce-81c4-723f7e7bc3ee"
      },
      "execution_count": 94,
      "outputs": [
        {
          "output_type": "execute_result",
          "data": {
            "text/plain": [
              "((1452, 2), 1016.4)"
            ]
          },
          "metadata": {},
          "execution_count": 94
        }
      ]
    },
    {
      "cell_type": "code",
      "source": [
        "tokenizer = BertTokenizer.from_pretrained(\"bert-base-uncased\")\n",
        "def tokenize(example):\n",
        "    return tokenizer(example[\"text\"], padding=\"max_length\", truncation=True, max_length=128)\n"
      ],
      "metadata": {
        "id": "lxBrspdhsOjI"
      },
      "execution_count": 95,
      "outputs": []
    },
    {
      "cell_type": "code",
      "source": [
        "train_dataset = train_dataset.map(tokenize, batched=True)\n",
        "val_dataset = val_dataset.map(tokenize, batched=True)\n",
        "\n",
        "# Remove text column after tokenization\n",
        "train_dataset = train_dataset.remove_columns([\"text\"])\n",
        "val_dataset = val_dataset.remove_columns([\"text\"])\n",
        "\n",
        "# Set format for PyTorch\n",
        "train_dataset.set_format(\"torch\")\n",
        "val_dataset.set_format(\"torch\")"
      ],
      "metadata": {
        "colab": {
          "base_uri": "https://localhost:8080/",
          "height": 81,
          "referenced_widgets": [
            "a339b977bdfb44f2adc73416e0befe8d",
            "cc7a871199464c35b2d7a60709e0d753",
            "6d03f89e897b45c4b9a56da6092969a1",
            "ea82bcbcfdb640da9bae70d6564f3285",
            "617f2c81d46543f1923d6cd7b6a8454a",
            "37ca5aa142e041fab0ba07d7140a998b",
            "59dad765181c4bf3ac11b1a40c62db5f",
            "886a3a8f28a646eb9a8c09a27f7d920c",
            "6629bcae0ba64a5ea297bab274fbd271",
            "81ccb96f6dda4f72af8501281993aefe",
            "1d0562749973479eaa5a03e66b0295bf",
            "b2fdbe54ebac4838b844480d5f5a3761",
            "c0a9df01b14b478b9752e0e42211e431",
            "bd6e043fb81240eeb529baa60ba999d5",
            "9fdf680f415f48dc8cfb4115fdfaa488",
            "eb140d68ba714a3eb5028bc0775e6134",
            "0003c2fa8a5c4f7fb28489f76d8bde1e",
            "0e198c454a424c7d9d2f01834d6fc0bd",
            "1c8e503f8cb74b0c9daf6d9d09e8dff0",
            "bd0b2a2e3e554b78a1ba3c182ab91fcc",
            "671a76efd4a44d04a103d61962f2edf4",
            "5e496dc5d60945e889ac038b101e79e6"
          ]
        },
        "id": "zGnfdk7zsXDh",
        "outputId": "11cc7424-d47b-4b7c-a5d3-e701b5d77bda"
      },
      "execution_count": 96,
      "outputs": [
        {
          "output_type": "display_data",
          "data": {
            "text/plain": [
              "Map:   0%|          | 0/1016 [00:00<?, ? examples/s]"
            ],
            "application/vnd.jupyter.widget-view+json": {
              "version_major": 2,
              "version_minor": 0,
              "model_id": "a339b977bdfb44f2adc73416e0befe8d"
            }
          },
          "metadata": {}
        },
        {
          "output_type": "display_data",
          "data": {
            "text/plain": [
              "Map:   0%|          | 0/436 [00:00<?, ? examples/s]"
            ],
            "application/vnd.jupyter.widget-view+json": {
              "version_major": 2,
              "version_minor": 0,
              "model_id": "b2fdbe54ebac4838b844480d5f5a3761"
            }
          },
          "metadata": {}
        }
      ]
    },
    {
      "cell_type": "code",
      "source": [
        "# Load model\n",
        "model = BertForSequenceClassification.from_pretrained(\"bert-base-uncased\", num_labels=2)"
      ],
      "metadata": {
        "colab": {
          "base_uri": "https://localhost:8080/"
        },
        "id": "PVH9faNSslvU",
        "outputId": "8a5e3b7b-27ef-4e55-8054-dd1331e1b9ae"
      },
      "execution_count": 97,
      "outputs": [
        {
          "output_type": "stream",
          "name": "stderr",
          "text": [
            "Some weights of BertForSequenceClassification were not initialized from the model checkpoint at bert-base-uncased and are newly initialized: ['classifier.bias', 'classifier.weight']\n",
            "You should probably TRAIN this model on a down-stream task to be able to use it for predictions and inference.\n"
          ]
        }
      ]
    },
    {
      "cell_type": "code",
      "source": [
        "from sklearn.metrics import accuracy_score, precision_recall_fscore_support\n",
        "\n",
        "# Metrics function\n",
        "def compute_metrics(eval_pred):\n",
        "    logits, labels = eval_pred\n",
        "    preds = torch.argmax(torch.tensor(logits), axis=1)\n",
        "    acc = accuracy_score(labels, preds)\n",
        "    precision, recall, f1, _ = precision_recall_fscore_support(labels, preds, average='binary')\n",
        "    correct = (preds == torch.tensor(labels)).sum().item()\n",
        "    total = len(labels)\n",
        "    print(f\"\\nCorrect predictions: {correct} / {total}\")\n",
        "    return {\n",
        "        \"accuracy\": acc,\n",
        "        \"precision\": precision,\n",
        "        \"recall\": recall,\n",
        "        \"f1\": f1,\n",
        "    }"
      ],
      "metadata": {
        "id": "5_nA-E2lvjaE"
      },
      "execution_count": 98,
      "outputs": []
    },
    {
      "cell_type": "code",
      "source": [
        "# Training arguments\n",
        "training_args = TrainingArguments(\n",
        "    output_dir=\"./results\",\n",
        "    num_train_epochs=1,\n",
        "    per_device_train_batch_size=8,\n",
        "    per_device_eval_batch_size=16,\n",
        "    learning_rate=5e-6,\n",
        "    weight_decay=0.01,\n",
        "    logging_dir=\"./logs\",\n",
        "    logging_steps=10,\n",
        "    eval_strategy=\"steps\",\n",
        "    eval_steps=8,\n",
        "    report_to=\"none\",\n",
        "    fp16=torch.cuda.is_available(),\n",
        ")"
      ],
      "metadata": {
        "id": "5M6x-7wJsorI"
      },
      "execution_count": 99,
      "outputs": []
    },
    {
      "cell_type": "code",
      "source": [
        "# Trainer\n",
        "trainer = Trainer(\n",
        "    model=model,\n",
        "    args=training_args,\n",
        "    train_dataset=train_dataset,\n",
        "    eval_dataset=val_dataset,\n",
        "    compute_metrics=compute_metrics,\n",
        ")"
      ],
      "metadata": {
        "id": "cXujxrzzstxH"
      },
      "execution_count": 100,
      "outputs": []
    },
    {
      "cell_type": "code",
      "source": [
        "trainer.train()"
      ],
      "metadata": {
        "colab": {
          "base_uri": "https://localhost:8080/",
          "height": 1000
        },
        "id": "KHKzlxTKr601",
        "outputId": "f03a4d03-b43a-4ecf-d4b5-e7558db78bde"
      },
      "execution_count": 101,
      "outputs": [
        {
          "output_type": "display_data",
          "data": {
            "text/plain": [
              "<IPython.core.display.HTML object>"
            ],
            "text/html": [
              "\n",
              "    <div>\n",
              "      \n",
              "      <progress value='127' max='127' style='width:300px; height:20px; vertical-align: middle;'></progress>\n",
              "      [127/127 00:35, Epoch 1/1]\n",
              "    </div>\n",
              "    <table border=\"1\" class=\"dataframe\">\n",
              "  <thead>\n",
              " <tr style=\"text-align: left;\">\n",
              "      <th>Step</th>\n",
              "      <th>Training Loss</th>\n",
              "      <th>Validation Loss</th>\n",
              "      <th>Accuracy</th>\n",
              "      <th>Precision</th>\n",
              "      <th>Recall</th>\n",
              "      <th>F1</th>\n",
              "    </tr>\n",
              "  </thead>\n",
              "  <tbody>\n",
              "    <tr>\n",
              "      <td>8</td>\n",
              "      <td>No log</td>\n",
              "      <td>0.665162</td>\n",
              "      <td>0.545872</td>\n",
              "      <td>0.518337</td>\n",
              "      <td>0.995305</td>\n",
              "      <td>0.681672</td>\n",
              "    </tr>\n",
              "    <tr>\n",
              "      <td>16</td>\n",
              "      <td>0.731600</td>\n",
              "      <td>0.587168</td>\n",
              "      <td>0.816514</td>\n",
              "      <td>0.731707</td>\n",
              "      <td>0.985915</td>\n",
              "      <td>0.840000</td>\n",
              "    </tr>\n",
              "    <tr>\n",
              "      <td>24</td>\n",
              "      <td>0.585800</td>\n",
              "      <td>0.521668</td>\n",
              "      <td>0.949541</td>\n",
              "      <td>0.961353</td>\n",
              "      <td>0.934272</td>\n",
              "      <td>0.947619</td>\n",
              "    </tr>\n",
              "    <tr>\n",
              "      <td>32</td>\n",
              "      <td>0.509300</td>\n",
              "      <td>0.478971</td>\n",
              "      <td>0.967890</td>\n",
              "      <td>0.990148</td>\n",
              "      <td>0.943662</td>\n",
              "      <td>0.966346</td>\n",
              "    </tr>\n",
              "    <tr>\n",
              "      <td>40</td>\n",
              "      <td>0.461500</td>\n",
              "      <td>0.389297</td>\n",
              "      <td>0.993119</td>\n",
              "      <td>0.995283</td>\n",
              "      <td>0.990610</td>\n",
              "      <td>0.992941</td>\n",
              "    </tr>\n",
              "    <tr>\n",
              "      <td>48</td>\n",
              "      <td>0.461500</td>\n",
              "      <td>0.317765</td>\n",
              "      <td>0.997706</td>\n",
              "      <td>0.995327</td>\n",
              "      <td>1.000000</td>\n",
              "      <td>0.997658</td>\n",
              "    </tr>\n",
              "    <tr>\n",
              "      <td>56</td>\n",
              "      <td>0.360600</td>\n",
              "      <td>0.276133</td>\n",
              "      <td>0.997706</td>\n",
              "      <td>0.995327</td>\n",
              "      <td>1.000000</td>\n",
              "      <td>0.997658</td>\n",
              "    </tr>\n",
              "    <tr>\n",
              "      <td>64</td>\n",
              "      <td>0.293000</td>\n",
              "      <td>0.248831</td>\n",
              "      <td>0.997706</td>\n",
              "      <td>0.995327</td>\n",
              "      <td>1.000000</td>\n",
              "      <td>0.997658</td>\n",
              "    </tr>\n",
              "    <tr>\n",
              "      <td>72</td>\n",
              "      <td>0.265300</td>\n",
              "      <td>0.222048</td>\n",
              "      <td>0.997706</td>\n",
              "      <td>1.000000</td>\n",
              "      <td>0.995305</td>\n",
              "      <td>0.997647</td>\n",
              "    </tr>\n",
              "    <tr>\n",
              "      <td>80</td>\n",
              "      <td>0.246900</td>\n",
              "      <td>0.201216</td>\n",
              "      <td>0.997706</td>\n",
              "      <td>1.000000</td>\n",
              "      <td>0.995305</td>\n",
              "      <td>0.997647</td>\n",
              "    </tr>\n",
              "    <tr>\n",
              "      <td>88</td>\n",
              "      <td>0.246900</td>\n",
              "      <td>0.183422</td>\n",
              "      <td>0.997706</td>\n",
              "      <td>1.000000</td>\n",
              "      <td>0.995305</td>\n",
              "      <td>0.997647</td>\n",
              "    </tr>\n",
              "    <tr>\n",
              "      <td>96</td>\n",
              "      <td>0.203400</td>\n",
              "      <td>0.169607</td>\n",
              "      <td>0.997706</td>\n",
              "      <td>1.000000</td>\n",
              "      <td>0.995305</td>\n",
              "      <td>0.997647</td>\n",
              "    </tr>\n",
              "    <tr>\n",
              "      <td>104</td>\n",
              "      <td>0.198900</td>\n",
              "      <td>0.159951</td>\n",
              "      <td>1.000000</td>\n",
              "      <td>1.000000</td>\n",
              "      <td>1.000000</td>\n",
              "      <td>1.000000</td>\n",
              "    </tr>\n",
              "    <tr>\n",
              "      <td>112</td>\n",
              "      <td>0.185600</td>\n",
              "      <td>0.153376</td>\n",
              "      <td>1.000000</td>\n",
              "      <td>1.000000</td>\n",
              "      <td>1.000000</td>\n",
              "      <td>1.000000</td>\n",
              "    </tr>\n",
              "    <tr>\n",
              "      <td>120</td>\n",
              "      <td>0.176500</td>\n",
              "      <td>0.149492</td>\n",
              "      <td>1.000000</td>\n",
              "      <td>1.000000</td>\n",
              "      <td>1.000000</td>\n",
              "      <td>1.000000</td>\n",
              "    </tr>\n",
              "  </tbody>\n",
              "</table><p>"
            ]
          },
          "metadata": {}
        },
        {
          "output_type": "stream",
          "name": "stdout",
          "text": [
            "\n",
            "Correct predictions: 238 / 436\n",
            "\n",
            "Correct predictions: 356 / 436\n",
            "\n",
            "Correct predictions: 414 / 436\n",
            "\n",
            "Correct predictions: 422 / 436\n",
            "\n",
            "Correct predictions: 433 / 436\n",
            "\n",
            "Correct predictions: 435 / 436\n",
            "\n",
            "Correct predictions: 435 / 436\n",
            "\n",
            "Correct predictions: 435 / 436\n",
            "\n",
            "Correct predictions: 435 / 436\n",
            "\n",
            "Correct predictions: 435 / 436\n",
            "\n",
            "Correct predictions: 435 / 436\n",
            "\n",
            "Correct predictions: 435 / 436\n",
            "\n",
            "Correct predictions: 436 / 436\n",
            "\n",
            "Correct predictions: 436 / 436\n",
            "\n",
            "Correct predictions: 436 / 436\n"
          ]
        },
        {
          "output_type": "execute_result",
          "data": {
            "text/plain": [
              "TrainOutput(global_step=127, training_loss=0.3416334737942913, metrics={'train_runtime': 35.5646, 'train_samples_per_second': 28.568, 'train_steps_per_second': 3.571, 'total_flos': 66830208061440.0, 'train_loss': 0.3416334737942913, 'epoch': 1.0})"
            ]
          },
          "metadata": {},
          "execution_count": 101
        }
      ]
    },
    {
      "cell_type": "code",
      "source": [
        "# Save model\n",
        "model.save_pretrained(\"./bert-binary-classifier\")\n",
        "tokenizer.save_pretrained(\"./bert-binary-classifier\")"
      ],
      "metadata": {
        "id": "z966anxPsw5t",
        "colab": {
          "base_uri": "https://localhost:8080/"
        },
        "outputId": "6cbae36a-bfb1-4720-e592-f17ee612acb3"
      },
      "execution_count": 102,
      "outputs": [
        {
          "output_type": "execute_result",
          "data": {
            "text/plain": [
              "('./bert-binary-classifier/tokenizer_config.json',\n",
              " './bert-binary-classifier/special_tokens_map.json',\n",
              " './bert-binary-classifier/vocab.txt',\n",
              " './bert-binary-classifier/added_tokens.json')"
            ]
          },
          "metadata": {},
          "execution_count": 102
        }
      ]
    },
    {
      "cell_type": "code",
      "source": [
        "from google.colab import files\n",
        "import shutil\n",
        "\n",
        "# Zip the folder\n",
        "shutil.make_archive(\"bert-binary-classifier\", 'zip', \"./bert-binary-classifier\")\n",
        "\n",
        "# Download the zip file\n",
        "files.download(\"bert-binary-classifier.zip\")"
      ],
      "metadata": {
        "colab": {
          "base_uri": "https://localhost:8080/",
          "height": 17
        },
        "id": "YzfvIANtwHRv",
        "outputId": "16dc3f96-63b3-49fb-8b7f-42fa304d029f"
      },
      "execution_count": 19,
      "outputs": [
        {
          "output_type": "display_data",
          "data": {
            "text/plain": [
              "<IPython.core.display.Javascript object>"
            ],
            "application/javascript": [
              "\n",
              "    async function download(id, filename, size) {\n",
              "      if (!google.colab.kernel.accessAllowed) {\n",
              "        return;\n",
              "      }\n",
              "      const div = document.createElement('div');\n",
              "      const label = document.createElement('label');\n",
              "      label.textContent = `Downloading \"${filename}\": `;\n",
              "      div.appendChild(label);\n",
              "      const progress = document.createElement('progress');\n",
              "      progress.max = size;\n",
              "      div.appendChild(progress);\n",
              "      document.body.appendChild(div);\n",
              "\n",
              "      const buffers = [];\n",
              "      let downloaded = 0;\n",
              "\n",
              "      const channel = await google.colab.kernel.comms.open(id);\n",
              "      // Send a message to notify the kernel that we're ready.\n",
              "      channel.send({})\n",
              "\n",
              "      for await (const message of channel.messages) {\n",
              "        // Send a message to notify the kernel that we're ready.\n",
              "        channel.send({})\n",
              "        if (message.buffers) {\n",
              "          for (const buffer of message.buffers) {\n",
              "            buffers.push(buffer);\n",
              "            downloaded += buffer.byteLength;\n",
              "            progress.value = downloaded;\n",
              "          }\n",
              "        }\n",
              "      }\n",
              "      const blob = new Blob(buffers, {type: 'application/binary'});\n",
              "      const a = document.createElement('a');\n",
              "      a.href = window.URL.createObjectURL(blob);\n",
              "      a.download = filename;\n",
              "      div.appendChild(a);\n",
              "      a.click();\n",
              "      div.remove();\n",
              "    }\n",
              "  "
            ]
          },
          "metadata": {}
        },
        {
          "output_type": "display_data",
          "data": {
            "text/plain": [
              "<IPython.core.display.Javascript object>"
            ],
            "application/javascript": [
              "download(\"download_8e0cc967-8968-4fa0-a293-ca4328c29090\", \"bert-binary-classifier.zip\", 405695841)"
            ]
          },
          "metadata": {}
        }
      ]
    },
    {
      "cell_type": "code",
      "source": [
        "from transformers import BertTokenizer, BertForSequenceClassification\n",
        "import torch\n",
        "\n",
        "# Load model and tokenizer\n",
        "model = BertForSequenceClassification.from_pretrained(\"./bert-binary-classifier\")\n",
        "tokenizer = BertTokenizer.from_pretrained(\"./bert-binary-classifier\")\n",
        "\n",
        "# Ensure model is in eval mode\n",
        "model.eval()"
      ],
      "metadata": {
        "id": "tjd81iOdwKQH",
        "colab": {
          "base_uri": "https://localhost:8080/"
        },
        "outputId": "2ea57db8-073b-45e7-e143-41c8694a61bc"
      },
      "execution_count": 103,
      "outputs": [
        {
          "output_type": "execute_result",
          "data": {
            "text/plain": [
              "BertForSequenceClassification(\n",
              "  (bert): BertModel(\n",
              "    (embeddings): BertEmbeddings(\n",
              "      (word_embeddings): Embedding(30522, 768, padding_idx=0)\n",
              "      (position_embeddings): Embedding(512, 768)\n",
              "      (token_type_embeddings): Embedding(2, 768)\n",
              "      (LayerNorm): LayerNorm((768,), eps=1e-12, elementwise_affine=True)\n",
              "      (dropout): Dropout(p=0.1, inplace=False)\n",
              "    )\n",
              "    (encoder): BertEncoder(\n",
              "      (layer): ModuleList(\n",
              "        (0-11): 12 x BertLayer(\n",
              "          (attention): BertAttention(\n",
              "            (self): BertSdpaSelfAttention(\n",
              "              (query): Linear(in_features=768, out_features=768, bias=True)\n",
              "              (key): Linear(in_features=768, out_features=768, bias=True)\n",
              "              (value): Linear(in_features=768, out_features=768, bias=True)\n",
              "              (dropout): Dropout(p=0.1, inplace=False)\n",
              "            )\n",
              "            (output): BertSelfOutput(\n",
              "              (dense): Linear(in_features=768, out_features=768, bias=True)\n",
              "              (LayerNorm): LayerNorm((768,), eps=1e-12, elementwise_affine=True)\n",
              "              (dropout): Dropout(p=0.1, inplace=False)\n",
              "            )\n",
              "          )\n",
              "          (intermediate): BertIntermediate(\n",
              "            (dense): Linear(in_features=768, out_features=3072, bias=True)\n",
              "            (intermediate_act_fn): GELUActivation()\n",
              "          )\n",
              "          (output): BertOutput(\n",
              "            (dense): Linear(in_features=3072, out_features=768, bias=True)\n",
              "            (LayerNorm): LayerNorm((768,), eps=1e-12, elementwise_affine=True)\n",
              "            (dropout): Dropout(p=0.1, inplace=False)\n",
              "          )\n",
              "        )\n",
              "      )\n",
              "    )\n",
              "    (pooler): BertPooler(\n",
              "      (dense): Linear(in_features=768, out_features=768, bias=True)\n",
              "      (activation): Tanh()\n",
              "    )\n",
              "  )\n",
              "  (dropout): Dropout(p=0.1, inplace=False)\n",
              "  (classifier): Linear(in_features=768, out_features=2, bias=True)\n",
              ")"
            ]
          },
          "metadata": {},
          "execution_count": 103
        }
      ]
    },
    {
      "cell_type": "code",
      "source": [
        "def predict(text):\n",
        "    # Tokenize input\n",
        "    inputs = tokenizer(text, return_tensors=\"pt\", truncation=True, padding=True, max_length=128)\n",
        "\n",
        "    # Forward pass\n",
        "    with torch.no_grad():\n",
        "        outputs = model(**inputs)\n",
        "        logits = outputs.logits\n",
        "        predicted_class = torch.argmax(logits, dim=1).item()\n",
        "        confidence = torch.softmax(logits, dim=1)[0][predicted_class].item()\n",
        "\n",
        "    return predicted_class, confidence"
      ],
      "metadata": {
        "id": "fZchz3AlxKUj"
      },
      "execution_count": 104,
      "outputs": []
    },
    {
      "cell_type": "code",
      "source": [
        "# Example query\n",
        "text = 'Max Schneider, born in 2000, is a software engineer from Brooklyn, NYC. He works at Google and earns $123K per year.'\n",
        "text_anonym = 'The person is still in his twenties and works for a major U.S. tech company. He already earns a six-figure salary.'\n",
        "label, confidence = predict(text)\n",
        "\n",
        "print(text)\n",
        "print(f\"Predicted Label: {label} (Confidence: {confidence:.2f})\")\n",
        "\n",
        "label, confidence = predict(text_anonym)\n",
        "\n",
        "print(text_anonym)\n",
        "print(f\"Predicted Label for anonym: {label} (Confidence: {confidence:.2f})\")\n"
      ],
      "metadata": {
        "id": "vBIKwTBsxQIk",
        "colab": {
          "base_uri": "https://localhost:8080/"
        },
        "outputId": "69f078c0-1c1d-4812-c0a1-ad92f68bfdf1"
      },
      "execution_count": 133,
      "outputs": [
        {
          "output_type": "stream",
          "name": "stdout",
          "text": [
            "Max Schneider, born in 2000, is a software engineer from Brooklyn, NYC. He works at Google and earns $123K per year.\n",
            "Predicted Label: 0 (Confidence: 0.79)\n",
            "The person is still in his twenties and works for a major U.S. tech company. He already earns a six-figure salary.\n",
            "Predicted Label for anonym: 1 (Confidence: 0.77)\n"
          ]
        }
      ]
    },
    {
      "cell_type": "code",
      "source": [
        "# Download anonymized_text.csv from GitHub\n",
        "!curl -L -o anonymized_text_val.csv https://raw.githubusercontent.com/e-strauss/AnonymizationXAI/master/DB-bio/anonymized_text_train.csv"
      ],
      "metadata": {
        "id": "XXnBv0d3x1qB",
        "colab": {
          "base_uri": "https://localhost:8080/"
        },
        "outputId": "e6cdaa78-2638-472a-fed7-d9a7b234180c"
      },
      "execution_count": 117,
      "outputs": [
        {
          "output_type": "stream",
          "name": "stdout",
          "text": [
            "  % Total    % Received % Xferd  Average Speed   Time    Time     Time  Current\n",
            "                                 Dload  Upload   Total   Spent    Left  Speed\n",
            "100  278k  100  278k    0     0  1014k      0 --:--:-- --:--:-- --:--:-- 1015k\n"
          ]
        }
      ]
    },
    {
      "cell_type": "code",
      "source": [
        "df = pd.read_csv(\"/content/anonymized_text_val.csv\")"
      ],
      "metadata": {
        "id": "yi01Wb8HExdc"
      },
      "execution_count": 106,
      "outputs": []
    },
    {
      "cell_type": "code",
      "source": [
        "total_correct = 0\n",
        "for t, anonym in zip(df[\"text\"], df[\"anonymized\"]):\n",
        "  l, c = predict(t)\n",
        "  correct = l == int(anonym)\n",
        "  print(l, c, correct)\n",
        "  total_correct += int(correct)\n",
        "total_correct, len(df), total_correct / len(df)"
      ],
      "metadata": {
        "colab": {
          "base_uri": "https://localhost:8080/"
        },
        "id": "q-j-CK2sFagY",
        "outputId": "e707cc7d-1548-42bd-c213-8bbf112232fe"
      },
      "execution_count": 125,
      "outputs": [
        {
          "output_type": "stream",
          "name": "stdout",
          "text": [
            "0 0.8862438201904297 True\n",
            "0 0.8550282120704651 True\n",
            "0 0.8945935368537903 True\n",
            "0 0.877803385257721 True\n",
            "0 0.8886864185333252 True\n",
            "0 0.8802570104598999 True\n",
            "0 0.8778079152107239 True\n",
            "0 0.8587680459022522 True\n",
            "0 0.886317789554596 True\n",
            "0 0.8868659734725952 True\n",
            "0 0.8838528990745544 True\n",
            "0 0.870921790599823 True\n",
            "0 0.8900377750396729 True\n",
            "0 0.8856732249259949 True\n",
            "0 0.8819363117218018 True\n",
            "0 0.8822823166847229 True\n",
            "0 0.8781517744064331 True\n",
            "0 0.8754957318305969 True\n",
            "0 0.8867427110671997 True\n",
            "0 0.8884578943252563 True\n",
            "0 0.8643509149551392 True\n",
            "0 0.8314184546470642 True\n",
            "0 0.891890823841095 True\n",
            "0 0.8900482654571533 True\n",
            "0 0.8911619186401367 True\n",
            "0 0.8852280974388123 True\n",
            "0 0.8794130682945251 True\n",
            "0 0.8800781965255737 True\n",
            "0 0.8703942894935608 True\n",
            "0 0.8909770846366882 True\n",
            "0 0.8852941989898682 True\n",
            "0 0.8883830904960632 True\n",
            "0 0.8649914860725403 True\n",
            "0 0.8889606595039368 True\n",
            "0 0.8367301225662231 True\n",
            "0 0.8760253190994263 True\n",
            "0 0.8839730620384216 True\n",
            "0 0.8867992162704468 True\n",
            "0 0.8752200603485107 True\n",
            "0 0.8740195631980896 True\n",
            "0 0.8669105768203735 True\n",
            "0 0.8649925589561462 True\n",
            "0 0.8709819912910461 True\n",
            "0 0.879494845867157 True\n",
            "0 0.891097366809845 True\n",
            "0 0.8764162063598633 True\n",
            "0 0.8866103291511536 True\n",
            "0 0.8547804951667786 True\n",
            "0 0.8733552694320679 True\n",
            "0 0.8905127644538879 True\n",
            "0 0.8702769875526428 True\n",
            "0 0.8415977358818054 True\n",
            "0 0.883175253868103 True\n",
            "0 0.877485990524292 True\n",
            "0 0.8919796943664551 True\n",
            "0 0.8816550970077515 True\n",
            "0 0.8762828707695007 True\n",
            "0 0.8887051343917847 True\n",
            "0 0.8763161301612854 True\n",
            "0 0.8955421447753906 True\n",
            "0 0.8685522675514221 True\n",
            "0 0.8738712072372437 True\n",
            "0 0.8690189123153687 True\n",
            "0 0.8893662095069885 True\n",
            "0 0.8900401592254639 True\n",
            "0 0.876720130443573 True\n",
            "0 0.8840427398681641 True\n",
            "0 0.884748637676239 True\n",
            "0 0.8659401535987854 True\n",
            "0 0.894774854183197 True\n",
            "0 0.8820170760154724 True\n",
            "0 0.8912942409515381 True\n",
            "0 0.8461355566978455 True\n",
            "0 0.8640724420547485 True\n",
            "0 0.8720856308937073 True\n",
            "0 0.8948691487312317 True\n",
            "0 0.8859783411026001 True\n",
            "0 0.8955811858177185 True\n",
            "0 0.8831900358200073 True\n",
            "0 0.8831565976142883 True\n",
            "0 0.8773719072341919 True\n",
            "0 0.8856815695762634 True\n",
            "0 0.886470377445221 True\n",
            "0 0.8919440507888794 True\n",
            "0 0.8696827292442322 True\n",
            "0 0.8799875378608704 True\n",
            "0 0.8757369518280029 True\n",
            "0 0.8809520602226257 True\n",
            "0 0.8787886500358582 True\n",
            "0 0.8792436718940735 True\n",
            "0 0.887210488319397 True\n",
            "0 0.8841067552566528 True\n",
            "0 0.8798744082450867 True\n",
            "0 0.8781110644340515 True\n",
            "0 0.8753305673599243 True\n",
            "0 0.8765884637832642 True\n",
            "0 0.8571195006370544 True\n",
            "0 0.8843964338302612 True\n",
            "1 0.8684061765670776 True\n",
            "1 0.8652904629707336 True\n",
            "1 0.8521632552146912 True\n",
            "1 0.8311423063278198 True\n",
            "1 0.8629435896873474 True\n",
            "1 0.8579167723655701 True\n",
            "1 0.863672137260437 True\n",
            "1 0.852806568145752 True\n",
            "1 0.8666201829910278 True\n",
            "1 0.8455354571342468 True\n",
            "1 0.8648134469985962 True\n",
            "1 0.8562845587730408 True\n",
            "1 0.8606177568435669 True\n",
            "1 0.8448734879493713 True\n",
            "1 0.8689297437667847 True\n",
            "1 0.859271764755249 True\n",
            "1 0.8702638149261475 True\n",
            "1 0.8535987138748169 True\n",
            "1 0.8658466339111328 True\n",
            "1 0.8466958403587341 True\n",
            "1 0.8585898876190186 True\n",
            "1 0.8628039360046387 True\n",
            "1 0.8620260953903198 True\n",
            "1 0.8051838874816895 True\n",
            "1 0.8605343699455261 True\n",
            "1 0.8668712973594666 True\n",
            "1 0.8509683609008789 True\n",
            "1 0.865124523639679 True\n",
            "1 0.862400472164154 True\n",
            "1 0.867129921913147 True\n",
            "1 0.8458573222160339 True\n",
            "1 0.8492231965065002 True\n",
            "1 0.8661388158798218 True\n",
            "1 0.842503547668457 True\n",
            "1 0.8537341952323914 True\n",
            "1 0.8587441444396973 True\n",
            "1 0.8603518605232239 True\n",
            "1 0.8481173515319824 True\n",
            "1 0.859733521938324 True\n",
            "1 0.8565140962600708 True\n",
            "1 0.8520679473876953 True\n",
            "1 0.8478250503540039 True\n",
            "1 0.8606095910072327 True\n",
            "1 0.8452003002166748 True\n",
            "1 0.8474528789520264 True\n",
            "1 0.8600612878799438 True\n",
            "1 0.858944833278656 True\n",
            "1 0.8595555424690247 True\n",
            "1 0.8511139750480652 True\n",
            "1 0.8622979521751404 True\n",
            "1 0.8490270376205444 True\n",
            "1 0.8507681488990784 True\n",
            "1 0.8644276261329651 True\n",
            "1 0.85254967212677 True\n",
            "1 0.8613595366477966 True\n",
            "1 0.854724109172821 True\n",
            "1 0.8651838302612305 True\n",
            "1 0.8619406223297119 True\n",
            "1 0.861116349697113 True\n",
            "1 0.8511250615119934 True\n",
            "1 0.8126212358474731 True\n",
            "1 0.7345866560935974 True\n",
            "1 0.8650607466697693 True\n",
            "1 0.8657903671264648 True\n",
            "1 0.85440993309021 True\n",
            "1 0.8428444862365723 True\n",
            "1 0.8635402917861938 True\n",
            "1 0.855750560760498 True\n",
            "1 0.8518825173377991 True\n",
            "1 0.8637822270393372 True\n",
            "1 0.858126699924469 True\n",
            "1 0.8621137142181396 True\n",
            "1 0.8521477580070496 True\n",
            "1 0.8622068762779236 True\n",
            "1 0.8633772730827332 True\n",
            "1 0.8585320115089417 True\n",
            "1 0.8521966338157654 True\n",
            "1 0.8681731820106506 True\n",
            "1 0.8648751974105835 True\n",
            "1 0.8712264895439148 True\n",
            "1 0.8360713124275208 True\n",
            "1 0.8638846278190613 True\n",
            "1 0.8638062477111816 True\n",
            "1 0.8685582876205444 True\n",
            "1 0.8647555708885193 True\n",
            "1 0.8597147464752197 True\n",
            "1 0.8661760687828064 True\n",
            "1 0.8337247371673584 True\n",
            "1 0.8568981885910034 True\n",
            "1 0.8571072220802307 True\n",
            "1 0.8527299165725708 True\n",
            "1 0.8573284149169922 True\n",
            "1 0.8614401817321777 True\n",
            "1 0.8363155722618103 True\n",
            "1 0.8734973073005676 True\n",
            "1 0.8627053499221802 True\n",
            "1 0.8642092943191528 True\n",
            "1 0.8644407391548157 True\n"
          ]
        },
        {
          "output_type": "execute_result",
          "data": {
            "text/plain": [
              "(196, 196, 1.0)"
            ]
          },
          "metadata": {},
          "execution_count": 125
        }
      ]
    },
    {
      "cell_type": "code",
      "source": [
        "df.columns"
      ],
      "metadata": {
        "colab": {
          "base_uri": "https://localhost:8080/"
        },
        "id": "HdtP0Z58FoPw",
        "outputId": "73c772d8-709b-47c3-87f5-3b1b11003473"
      },
      "execution_count": 114,
      "outputs": [
        {
          "output_type": "execute_result",
          "data": {
            "text/plain": [
              "Index(['text', 'anonymized'], dtype='object')"
            ]
          },
          "metadata": {},
          "execution_count": 114
        }
      ]
    },
    {
      "cell_type": "code",
      "source": [],
      "metadata": {
        "id": "Y5f_YFgRF50j"
      },
      "execution_count": null,
      "outputs": []
    }
  ]
}