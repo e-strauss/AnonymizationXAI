{
 "cells": [
  {
   "cell_type": "code",
   "outputs": [
    {
     "name": "stderr",
     "output_type": "stream",
     "text": [
      "[nltk_data] Downloading package wordnet to\n",
      "[nltk_data]     /Users/eliasstrauss/nltk_data...\n",
      "[nltk_data]   Package wordnet is already up-to-date!\n"
     ]
    },
    {
     "data": {
      "text/plain": "True"
     },
     "execution_count": 15,
     "metadata": {},
     "output_type": "execute_result"
    }
   ],
   "source": [
    "import nltk\n",
    "nltk.download('wordnet')"
   ],
   "metadata": {
    "collapsed": false,
    "ExecuteTime": {
     "end_time": "2025-05-06T10:02:25.482512Z",
     "start_time": "2025-05-06T10:02:25.443458Z"
    }
   },
   "id": "18ffa7c31aecfc6b",
   "execution_count": 15
  },
  {
   "cell_type": "code",
   "outputs": [],
   "source": [
    "original_text = \"the year's best and most unpredictable comedy.\""
   ],
   "metadata": {
    "collapsed": true,
    "ExecuteTime": {
     "end_time": "2025-05-06T10:02:28.419193Z",
     "start_time": "2025-05-06T10:02:28.417300Z"
    }
   },
   "id": "initial_id",
   "execution_count": 16
  },
  {
   "cell_type": "code",
   "outputs": [],
   "source": [
    "words = original_text.split()"
   ],
   "metadata": {
    "collapsed": false,
    "ExecuteTime": {
     "end_time": "2025-05-06T10:02:28.747523Z",
     "start_time": "2025-05-06T10:02:28.743545Z"
    }
   },
   "id": "f50aba50d1067821",
   "execution_count": 17
  },
  {
   "cell_type": "code",
   "outputs": [],
   "source": [
    "from nltk.corpus import wordnet as wn\n",
    "\n",
    "def get_synonyms(word, pos=None):\n",
    "    synonyms = set()\n",
    "    for syn in wn.synsets(word, pos=pos):\n",
    "        for lemma in syn.lemmas():\n",
    "            synonyms.add(lemma.name())\n",
    "    return synonyms"
   ],
   "metadata": {
    "collapsed": false,
    "ExecuteTime": {
     "end_time": "2025-05-06T10:02:29.280255Z",
     "start_time": "2025-05-06T10:02:29.277467Z"
    }
   },
   "id": "c56bfdcffc947665",
   "execution_count": 18
  },
  {
   "cell_type": "code",
   "outputs": [
    {
     "data": {
      "text/plain": "{'adept',\n 'beneficial',\n 'best',\n 'better',\n 'dear',\n 'dependable',\n 'effective',\n 'estimable',\n 'expert',\n 'full',\n 'good',\n 'honest',\n 'honorable',\n 'in_effect',\n 'in_force',\n 'just',\n 'near',\n 'practiced',\n 'proficient',\n 'respectable',\n 'right',\n 'ripe',\n 'safe',\n 'salutary',\n 'secure',\n 'serious',\n 'skilful',\n 'skillful',\n 'sound',\n 'undecomposed',\n 'unspoiled',\n 'unspoilt',\n 'upright',\n 'well'}"
     },
     "execution_count": 19,
     "metadata": {},
     "output_type": "execute_result"
    }
   ],
   "source": [
    "get_synonyms(words[2], wn.ADJ)"
   ],
   "metadata": {
    "collapsed": false,
    "ExecuteTime": {
     "end_time": "2025-05-06T10:02:29.849211Z",
     "start_time": "2025-05-06T10:02:29.846147Z"
    }
   },
   "id": "ab710efd73c2bfe1",
   "execution_count": 19
  },
  {
   "cell_type": "code",
   "outputs": [],
   "source": [],
   "metadata": {
    "collapsed": false
   },
   "id": "16e2abb29de1bea2"
  }
 ],
 "metadata": {
  "kernelspec": {
   "display_name": "Python 3",
   "language": "python",
   "name": "python3"
  },
  "language_info": {
   "codemirror_mode": {
    "name": "ipython",
    "version": 2
   },
   "file_extension": ".py",
   "mimetype": "text/x-python",
   "name": "python",
   "nbconvert_exporter": "python",
   "pygments_lexer": "ipython2",
   "version": "2.7.6"
  }
 },
 "nbformat": 4,
 "nbformat_minor": 5
}
