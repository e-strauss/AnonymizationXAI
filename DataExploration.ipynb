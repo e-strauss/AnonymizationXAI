{
 "cells": [
  {
   "cell_type": "code",
   "outputs": [],
   "source": [
    "from read_jsonl import read_jsonl\n",
    "import numpy as np\n",
    "import pandas as pd"
   ],
   "metadata": {
    "collapsed": false,
    "ExecuteTime": {
     "end_time": "2025-05-07T07:57:59.361954Z",
     "start_time": "2025-05-07T07:57:59.356466Z"
    }
   },
   "id": "535e8666a1cf2168",
   "execution_count": 19
  },
  {
   "cell_type": "code",
   "outputs": [
    {
     "data": {
      "text/plain": "Index(['original', 'chosen', 'reject', 'people', 'label'], dtype='object')"
     },
     "execution_count": 20,
     "metadata": {},
     "output_type": "execute_result"
    }
   ],
   "source": [
    "df = read_jsonl(\"DB-bio/train_dpo.jsonl\")\n",
    "df.columns"
   ],
   "metadata": {
    "collapsed": false,
    "ExecuteTime": {
     "end_time": "2025-05-07T07:58:00.146946Z",
     "start_time": "2025-05-07T07:58:00.112079Z"
    }
   },
   "id": "191d6d182010ff31",
   "execution_count": 20
  },
  {
   "cell_type": "code",
   "outputs": [
    {
     "data": {
      "text/plain": "                                            original  \\\n0  Adriano Goldschmied is an Italian fashion desi...   \n1  (This name uses Spanish naming customs: the fi...   \n2  (This name uses Spanish naming customs: the fi...   \n3  Gautam Bhatia graduated in Fine Arts and went ...   \n4  William Archibald Scott Brown, known as Archie...   \n\n                                              chosen  \n0  A fashion designer who specializes in a popula...  \n1  This name follows a specific cultural naming c...  \n2  This name follows a specific cultural naming c...  \n3  A person graduated in Fine Arts and went on to...  \n4  A racing enthusiast, known as the driver, (bor...  ",
      "text/html": "<div>\n<style scoped>\n    .dataframe tbody tr th:only-of-type {\n        vertical-align: middle;\n    }\n\n    .dataframe tbody tr th {\n        vertical-align: top;\n    }\n\n    .dataframe thead th {\n        text-align: right;\n    }\n</style>\n<table border=\"1\" class=\"dataframe\">\n  <thead>\n    <tr style=\"text-align: right;\">\n      <th></th>\n      <th>original</th>\n      <th>chosen</th>\n    </tr>\n  </thead>\n  <tbody>\n    <tr>\n      <th>0</th>\n      <td>Adriano Goldschmied is an Italian fashion desi...</td>\n      <td>A fashion designer who specializes in a popula...</td>\n    </tr>\n    <tr>\n      <th>1</th>\n      <td>(This name uses Spanish naming customs: the fi...</td>\n      <td>This name follows a specific cultural naming c...</td>\n    </tr>\n    <tr>\n      <th>2</th>\n      <td>(This name uses Spanish naming customs: the fi...</td>\n      <td>This name follows a specific cultural naming c...</td>\n    </tr>\n    <tr>\n      <th>3</th>\n      <td>Gautam Bhatia graduated in Fine Arts and went ...</td>\n      <td>A person graduated in Fine Arts and went on to...</td>\n    </tr>\n    <tr>\n      <th>4</th>\n      <td>William Archibald Scott Brown, known as Archie...</td>\n      <td>A racing enthusiast, known as the driver, (bor...</td>\n    </tr>\n  </tbody>\n</table>\n</div>"
     },
     "execution_count": 21,
     "metadata": {},
     "output_type": "execute_result"
    }
   ],
   "source": [
    "df[[\"original\", \"chosen\"]].head(5)"
   ],
   "metadata": {
    "collapsed": false,
    "ExecuteTime": {
     "end_time": "2025-05-07T07:58:00.530785Z",
     "start_time": "2025-05-07T07:58:00.524796Z"
    }
   },
   "id": "7fe904931e77c9e6",
   "execution_count": 21
  },
  {
   "cell_type": "code",
   "outputs": [
    {
     "data": {
      "text/plain": "(Index(['text', 'anonymized'], dtype='object'),\n                                                 text  anonymized\n 0  Adriano Goldschmied is an Italian fashion desi...           0\n 1  (This name uses Spanish naming customs: the fi...           0\n 2  (This name uses Spanish naming customs: the fi...           0\n 3  Gautam Bhatia graduated in Fine Arts and went ...           0\n 4  William Archibald Scott Brown, known as Archie...           0)"
     },
     "execution_count": 22,
     "metadata": {},
     "output_type": "execute_result"
    }
   ],
   "source": [
    "df_original = df[[\"original\"]].copy()\n",
    "df_original.rename(columns={\"original\": \"text\"}, inplace=True)\n",
    "df_original[\"anonymized\"] = 0\n",
    "df_original.columns, df_original.head(5)"
   ],
   "metadata": {
    "collapsed": false,
    "ExecuteTime": {
     "end_time": "2025-05-07T07:58:01.134495Z",
     "start_time": "2025-05-07T07:58:01.129236Z"
    }
   },
   "id": "8222b8c8fdf5d00c",
   "execution_count": 22
  },
  {
   "cell_type": "code",
   "outputs": [
    {
     "data": {
      "text/plain": "(Index(['text', 'anonymized'], dtype='object'),\n                                                 text  anonymized\n 0  A fashion designer who specializes in a popula...           1\n 1  This name follows a specific cultural naming c...           1\n 2  This name follows a specific cultural naming c...           1\n 3  A person graduated in Fine Arts and went on to...           1\n 4  A racing enthusiast, known as the driver, (bor...           1)"
     },
     "execution_count": 23,
     "metadata": {},
     "output_type": "execute_result"
    }
   ],
   "source": [
    "df_anonymized = df[[\"chosen\"]].copy()\n",
    "df_anonymized.rename(columns={\"chosen\": \"text\"}, inplace=True)\n",
    "df_anonymized[\"anonymized\"] = 1\n",
    "df_anonymized.columns, df_anonymized.head(5)"
   ],
   "metadata": {
    "collapsed": false,
    "ExecuteTime": {
     "end_time": "2025-05-07T07:58:01.666788Z",
     "start_time": "2025-05-07T07:58:01.662111Z"
    }
   },
   "id": "cb09293b3d750b94",
   "execution_count": 23
  },
  {
   "cell_type": "code",
   "outputs": [],
   "source": [
    "df_combined = pd.concat([df_original, df_anonymized], axis=0, ignore_index=True)\n",
    "df_combined.to_csv(\"DB-bio/anonymized_text.csv\", index=False)"
   ],
   "metadata": {
    "collapsed": false,
    "ExecuteTime": {
     "end_time": "2025-05-07T08:00:59.514798Z",
     "start_time": "2025-05-07T08:00:59.435496Z"
    }
   },
   "id": "99089be26620212e",
   "execution_count": 25
  },
  {
   "cell_type": "code",
   "outputs": [
    {
     "data": {
      "text/plain": "(3968, 2)"
     },
     "execution_count": 26,
     "metadata": {},
     "output_type": "execute_result"
    }
   ],
   "source": [
    "df_combined.shape"
   ],
   "metadata": {
    "collapsed": false,
    "ExecuteTime": {
     "end_time": "2025-05-07T08:01:42.865999Z",
     "start_time": "2025-05-07T08:01:42.862888Z"
    }
   },
   "id": "e27d4f772ee30318",
   "execution_count": 26
  },
  {
   "cell_type": "code",
   "outputs": [
    {
     "data": {
      "text/plain": "                                              output  \\\n0  A person (born in the early 20th century – pas...   \n1  A person (Date of Birth - Date of Death) was a...   \n2  A fashion designer who specializes in a popula...   \n3  A person (Date of Birth – Date of Death) was a...   \n4  A person (born on a date in 1977) is an Americ...   \n\n                                               input  \\\n0  Geoffrey Harber Diggle (6 December 1902 – 13 F...   \n1  Moody Jolley (March 23, 1910 - February, 1976)...   \n2  Adriano Goldschmied is an Italian fashion desi...   \n3  Hannibal Lafayette Godwin (November 3, 1873 – ...   \n4  Joshua Lee Haynes (born July 30, 1977) is an A...   \n\n                      people             label  \n0               G. H. Diggle      Chess Player  \n1               Moody Jolley     Horse Trainer  \n2        Adriano Goldschmied  Fashion Designer  \n3  Hannibal Lafayette Godwin       Congressman  \n4                Josh Haynes    Martial Artist  ",
      "text/html": "<div>\n<style scoped>\n    .dataframe tbody tr th:only-of-type {\n        vertical-align: middle;\n    }\n\n    .dataframe tbody tr th {\n        vertical-align: top;\n    }\n\n    .dataframe thead th {\n        text-align: right;\n    }\n</style>\n<table border=\"1\" class=\"dataframe\">\n  <thead>\n    <tr style=\"text-align: right;\">\n      <th></th>\n      <th>output</th>\n      <th>input</th>\n      <th>people</th>\n      <th>label</th>\n    </tr>\n  </thead>\n  <tbody>\n    <tr>\n      <th>0</th>\n      <td>A person (born in the early 20th century – pas...</td>\n      <td>Geoffrey Harber Diggle (6 December 1902 – 13 F...</td>\n      <td>G. H. Diggle</td>\n      <td>Chess Player</td>\n    </tr>\n    <tr>\n      <th>1</th>\n      <td>A person (Date of Birth - Date of Death) was a...</td>\n      <td>Moody Jolley (March 23, 1910 - February, 1976)...</td>\n      <td>Moody Jolley</td>\n      <td>Horse Trainer</td>\n    </tr>\n    <tr>\n      <th>2</th>\n      <td>A fashion designer who specializes in a popula...</td>\n      <td>Adriano Goldschmied is an Italian fashion desi...</td>\n      <td>Adriano Goldschmied</td>\n      <td>Fashion Designer</td>\n    </tr>\n    <tr>\n      <th>3</th>\n      <td>A person (Date of Birth – Date of Death) was a...</td>\n      <td>Hannibal Lafayette Godwin (November 3, 1873 – ...</td>\n      <td>Hannibal Lafayette Godwin</td>\n      <td>Congressman</td>\n    </tr>\n    <tr>\n      <th>4</th>\n      <td>A person (born on a date in 1977) is an Americ...</td>\n      <td>Joshua Lee Haynes (born July 30, 1977) is an A...</td>\n      <td>Josh Haynes</td>\n      <td>Martial Artist</td>\n    </tr>\n  </tbody>\n</table>\n</div>"
     },
     "execution_count": 4,
     "metadata": {},
     "output_type": "execute_result"
    }
   ],
   "source": [
    "df2 = read_jsonl(\"DB-bio/train_sft.jsonl\")\n",
    "df2.head(5)"
   ],
   "metadata": {
    "collapsed": false,
    "ExecuteTime": {
     "end_time": "2025-05-05T11:24:09.888703Z",
     "start_time": "2025-05-05T11:24:09.863944Z"
    }
   },
   "id": "1b69c818c5d5649c",
   "execution_count": 4
  },
  {
   "cell_type": "code",
   "outputs": [
    {
     "data": {
      "text/plain": "                                                text     l1          l2  \\\n0  Geoffrey Harber Diggle (6 December 1902 – 13 F...  Agent     Athlete   \n1  Moody Jolley (March 23, 1910 - February, 1976)...  Agent      Person   \n2  Adriano Goldschmied is an Italian fashion desi...  Agent      Artist   \n3  Hannibal Lafayette Godwin (November 3, 1873 – ...  Agent  Politician   \n4  Joshua Lee Haynes (born July 30, 1977) is an A...  Agent     Athlete   \n\n                l3                  wiki_name  word_count             label  \\\n0      ChessPlayer               G._H._Diggle         423      Chess Player   \n1     HorseTrainer               Moody_Jolley         238     Horse Trainer   \n2  FashionDesigner        Adriano_Goldschmied         164  Fashion Designer   \n3      Congressman  Hannibal_Lafayette_Godwin         200       Congressman   \n4    MartialArtist                Josh_Haynes         160    Martial Artist   \n\n                      people  \n0               G. H. Diggle  \n1               Moody Jolley  \n2        Adriano Goldschmied  \n3  Hannibal Lafayette Godwin  \n4                Josh Haynes  ",
      "text/html": "<div>\n<style scoped>\n    .dataframe tbody tr th:only-of-type {\n        vertical-align: middle;\n    }\n\n    .dataframe tbody tr th {\n        vertical-align: top;\n    }\n\n    .dataframe thead th {\n        text-align: right;\n    }\n</style>\n<table border=\"1\" class=\"dataframe\">\n  <thead>\n    <tr style=\"text-align: right;\">\n      <th></th>\n      <th>text</th>\n      <th>l1</th>\n      <th>l2</th>\n      <th>l3</th>\n      <th>wiki_name</th>\n      <th>word_count</th>\n      <th>label</th>\n      <th>people</th>\n    </tr>\n  </thead>\n  <tbody>\n    <tr>\n      <th>0</th>\n      <td>Geoffrey Harber Diggle (6 December 1902 – 13 F...</td>\n      <td>Agent</td>\n      <td>Athlete</td>\n      <td>ChessPlayer</td>\n      <td>G._H._Diggle</td>\n      <td>423</td>\n      <td>Chess Player</td>\n      <td>G. H. Diggle</td>\n    </tr>\n    <tr>\n      <th>1</th>\n      <td>Moody Jolley (March 23, 1910 - February, 1976)...</td>\n      <td>Agent</td>\n      <td>Person</td>\n      <td>HorseTrainer</td>\n      <td>Moody_Jolley</td>\n      <td>238</td>\n      <td>Horse Trainer</td>\n      <td>Moody Jolley</td>\n    </tr>\n    <tr>\n      <th>2</th>\n      <td>Adriano Goldschmied is an Italian fashion desi...</td>\n      <td>Agent</td>\n      <td>Artist</td>\n      <td>FashionDesigner</td>\n      <td>Adriano_Goldschmied</td>\n      <td>164</td>\n      <td>Fashion Designer</td>\n      <td>Adriano Goldschmied</td>\n    </tr>\n    <tr>\n      <th>3</th>\n      <td>Hannibal Lafayette Godwin (November 3, 1873 – ...</td>\n      <td>Agent</td>\n      <td>Politician</td>\n      <td>Congressman</td>\n      <td>Hannibal_Lafayette_Godwin</td>\n      <td>200</td>\n      <td>Congressman</td>\n      <td>Hannibal Lafayette Godwin</td>\n    </tr>\n    <tr>\n      <th>4</th>\n      <td>Joshua Lee Haynes (born July 30, 1977) is an A...</td>\n      <td>Agent</td>\n      <td>Athlete</td>\n      <td>MartialArtist</td>\n      <td>Josh_Haynes</td>\n      <td>160</td>\n      <td>Martial Artist</td>\n      <td>Josh Haynes</td>\n    </tr>\n  </tbody>\n</table>\n</div>"
     },
     "execution_count": 5,
     "metadata": {},
     "output_type": "execute_result"
    }
   ],
   "source": [
    "df3 = read_jsonl(\"DB-bio/train.jsonl\")\n",
    "df3.head(5)"
   ],
   "metadata": {
    "collapsed": false,
    "ExecuteTime": {
     "end_time": "2025-05-05T11:24:09.915100Z",
     "start_time": "2025-05-05T11:24:09.890571Z"
    }
   },
   "id": "873f698968bb917d",
   "execution_count": 5
  },
  {
   "cell_type": "code",
   "outputs": [],
   "source": [],
   "metadata": {
    "collapsed": false,
    "ExecuteTime": {
     "end_time": "2025-05-05T11:24:09.918152Z",
     "start_time": "2025-05-05T11:24:09.916277Z"
    }
   },
   "id": "cbb3c63c9091205c",
   "execution_count": 5
  }
 ],
 "metadata": {
  "kernelspec": {
   "display_name": "Python 3",
   "language": "python",
   "name": "python3"
  },
  "language_info": {
   "codemirror_mode": {
    "name": "ipython",
    "version": 2
   },
   "file_extension": ".py",
   "mimetype": "text/x-python",
   "name": "python",
   "nbconvert_exporter": "python",
   "pygments_lexer": "ipython2",
   "version": "2.7.6"
  }
 },
 "nbformat": 4,
 "nbformat_minor": 5
}
