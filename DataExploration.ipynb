{
 "cells": [
  {
   "cell_type": "code",
   "outputs": [],
   "source": [
    "from read_jsonl import read_jsonl\n",
    "import numpy as np\n",
    "import pandas as pd"
   ],
   "metadata": {
    "collapsed": false,
    "ExecuteTime": {
     "end_time": "2025-05-13T13:56:43.520507Z",
     "start_time": "2025-05-13T13:56:43.517396Z"
    }
   },
   "id": "535e8666a1cf2168",
   "execution_count": 10
  },
  {
   "cell_type": "code",
   "outputs": [
    {
     "data": {
      "text/plain": "Index(['original', 'chosen', 'reject', 'people', 'label'], dtype='object')"
     },
     "execution_count": 2,
     "metadata": {},
     "output_type": "execute_result"
    }
   ],
   "source": [
    "df = read_jsonl(\"DB-bio/train_dpo.jsonl\")\n",
    "df.columns"
   ],
   "metadata": {
    "collapsed": false,
    "ExecuteTime": {
     "end_time": "2025-05-07T08:18:25.897159Z",
     "start_time": "2025-05-07T08:18:25.870235Z"
    }
   },
   "id": "191d6d182010ff31",
   "execution_count": 2
  },
  {
   "cell_type": "code",
   "outputs": [
    {
     "data": {
      "text/plain": "(Index(['output', 'input', 'people', 'label'], dtype='object'),\n Index(['text', 'l1', 'l2', 'l3', 'wiki_name', 'word_count', 'label', 'people'], dtype='object'))"
     },
     "execution_count": 33,
     "metadata": {},
     "output_type": "execute_result"
    }
   ],
   "source": [
    "df_dpo = read_jsonl(\"DB-bio/train_dpo.jsonl\")\n",
    "df_sft = read_jsonl(\"DB-bio/train_sft.jsonl\")\n",
    "df_train = read_jsonl(\"DB-bio/train.jsonl\")\n",
    "df_sft.columns, df_train.columns"
   ],
   "metadata": {
    "collapsed": false,
    "ExecuteTime": {
     "end_time": "2025-05-13T14:13:11.716092Z",
     "start_time": "2025-05-13T14:13:11.642349Z"
    }
   },
   "id": "f8d0da0afbd2ba9b",
   "execution_count": 33
  },
  {
   "cell_type": "code",
   "outputs": [],
   "source": [
    "df_sft.rename(columns={\"input\": \"original\"}, inplace=True)\n",
    "df_dpo = df_dpo[[\"original\", \"chosen\"]].drop_duplicates()"
   ],
   "metadata": {
    "collapsed": false,
    "ExecuteTime": {
     "end_time": "2025-05-13T14:13:12.301826Z",
     "start_time": "2025-05-13T14:13:12.286295Z"
    }
   },
   "id": "67d7ed91df5a1f92",
   "execution_count": 34
  },
  {
   "cell_type": "code",
   "outputs": [
    {
     "data": {
      "text/plain": "726"
     },
     "execution_count": 36,
     "metadata": {},
     "output_type": "execute_result"
    }
   ],
   "source": [
    "joined = pd.merge(df_dpo, df_sft, on=\"original\", how=\"inner\")\n",
    "joined = joined[[\"original\", \"chosen\", \"output\"]]\n",
    "len(joined)"
   ],
   "metadata": {
    "collapsed": false,
    "ExecuteTime": {
     "end_time": "2025-05-13T14:13:46.224346Z",
     "start_time": "2025-05-13T14:13:46.217206Z"
    }
   },
   "id": "d4def9d5c8453885",
   "execution_count": 36
  },
  {
   "cell_type": "code",
   "outputs": [
    {
     "data": {
      "text/plain": "                                            original  \\\n0  Adriano Goldschmied is an Italian fashion desi...   \n1  (This name uses Spanish naming customs: the fi...   \n2  Gautam Bhatia graduated in Fine Arts and went ...   \n3  William Archibald Scott Brown, known as Archie...   \n4  Brett H. McGurk (born April 20, 1973) is an Am...   \n5  Peter Aerts (born October 25, 1970) is a Dutch...   \n6  Chris Sanderson was a lacrosse coach and membe...   \n7  Michael Collins (born October 31, 1930), Major...   \n8  James Roderick Lilley (January 15, 1928 – Nove...   \n9  Alan LaVern Bean (born March 15, 1932), (Capt,...   \n\n                                              chosen  \\\n0  A fashion designer who specializes in a popula...   \n1  This name follows a specific cultural naming c...   \n2  A person graduated in Fine Arts and went on to...   \n3  A racing enthusiast, known as the driver, (bor...   \n4  A person (born on a date in a year) is a profe...   \n5  A person (born in a year) is a semi-retired at...   \n6  A person was a coach and member of a team defe...   \n7  A person, formerly engaged in a specialized pr...   \n8  A government official (Date of Birth – Date of...   \n9  A person (born on a date), (title, nationality...   \n\n                                              output  \n0  A fashion designer who specializes in a popula...  \n1  This name follows a specific cultural naming c...  \n2  A person graduated in Fine Arts and went on to...  \n3  A racing enthusiast, known as the driver, (bor...  \n4  A person (born on a date in a year) is a profe...  \n5  A person (born in a year) is a semi-retired at...  \n6  A person was a coach and member of a team defe...  \n7  A person, formerly engaged in a specialized pr...  \n8  A government official (Date of Birth – Date of...  \n9  A person (born on a date), (title, nationality...  ",
      "text/html": "<div>\n<style scoped>\n    .dataframe tbody tr th:only-of-type {\n        vertical-align: middle;\n    }\n\n    .dataframe tbody tr th {\n        vertical-align: top;\n    }\n\n    .dataframe thead th {\n        text-align: right;\n    }\n</style>\n<table border=\"1\" class=\"dataframe\">\n  <thead>\n    <tr style=\"text-align: right;\">\n      <th></th>\n      <th>original</th>\n      <th>chosen</th>\n      <th>output</th>\n    </tr>\n  </thead>\n  <tbody>\n    <tr>\n      <th>0</th>\n      <td>Adriano Goldschmied is an Italian fashion desi...</td>\n      <td>A fashion designer who specializes in a popula...</td>\n      <td>A fashion designer who specializes in a popula...</td>\n    </tr>\n    <tr>\n      <th>1</th>\n      <td>(This name uses Spanish naming customs: the fi...</td>\n      <td>This name follows a specific cultural naming c...</td>\n      <td>This name follows a specific cultural naming c...</td>\n    </tr>\n    <tr>\n      <th>2</th>\n      <td>Gautam Bhatia graduated in Fine Arts and went ...</td>\n      <td>A person graduated in Fine Arts and went on to...</td>\n      <td>A person graduated in Fine Arts and went on to...</td>\n    </tr>\n    <tr>\n      <th>3</th>\n      <td>William Archibald Scott Brown, known as Archie...</td>\n      <td>A racing enthusiast, known as the driver, (bor...</td>\n      <td>A racing enthusiast, known as the driver, (bor...</td>\n    </tr>\n    <tr>\n      <th>4</th>\n      <td>Brett H. McGurk (born April 20, 1973) is an Am...</td>\n      <td>A person (born on a date in a year) is a profe...</td>\n      <td>A person (born on a date in a year) is a profe...</td>\n    </tr>\n    <tr>\n      <th>5</th>\n      <td>Peter Aerts (born October 25, 1970) is a Dutch...</td>\n      <td>A person (born in a year) is a semi-retired at...</td>\n      <td>A person (born in a year) is a semi-retired at...</td>\n    </tr>\n    <tr>\n      <th>6</th>\n      <td>Chris Sanderson was a lacrosse coach and membe...</td>\n      <td>A person was a coach and member of a team defe...</td>\n      <td>A person was a coach and member of a team defe...</td>\n    </tr>\n    <tr>\n      <th>7</th>\n      <td>Michael Collins (born October 31, 1930), Major...</td>\n      <td>A person, formerly engaged in a specialized pr...</td>\n      <td>A person, formerly engaged in a specialized pr...</td>\n    </tr>\n    <tr>\n      <th>8</th>\n      <td>James Roderick Lilley (January 15, 1928 – Nove...</td>\n      <td>A government official (Date of Birth – Date of...</td>\n      <td>A government official (Date of Birth – Date of...</td>\n    </tr>\n    <tr>\n      <th>9</th>\n      <td>Alan LaVern Bean (born March 15, 1932), (Capt,...</td>\n      <td>A person (born on a date), (title, nationality...</td>\n      <td>A person (born on a date), (title, nationality...</td>\n    </tr>\n  </tbody>\n</table>\n</div>"
     },
     "execution_count": 37,
     "metadata": {},
     "output_type": "execute_result"
    }
   ],
   "source": [
    "joined.head(10)"
   ],
   "metadata": {
    "collapsed": false,
    "ExecuteTime": {
     "end_time": "2025-05-13T14:13:47.751783Z",
     "start_time": "2025-05-13T14:13:47.746908Z"
    }
   },
   "id": "83c927a73554983b",
   "execution_count": 37
  },
  {
   "cell_type": "code",
   "outputs": [
    {
     "data": {
      "text/plain": "                                               output  \\\n0   A person (born in the early 20th century – pas...   \n1   A person (Date of Birth - Date of Death) was a...   \n2   A fashion designer who specializes in a popula...   \n3   A person (Date of Birth – Date of Death) was a...   \n4   A person (born on a date in 1977) is an Americ...   \n..                                                ...   \n95  A person (born on a date in a city in Californ...   \n96  A person (born on a date in 1978) is a former ...   \n97  A person was a U.S. Representative from a U.S....   \n98  A person (Date of Birth – Date of Death) was a...   \n99  A person is an American born photographer, mus...   \n\n                                                input  \\\n0   Geoffrey Harber Diggle (6 December 1902 – 13 F...   \n1   Moody Jolley (March 23, 1910 - February, 1976)...   \n2   Adriano Goldschmied is an Italian fashion desi...   \n3   Hannibal Lafayette Godwin (November 3, 1873 – ...   \n4   Joshua Lee Haynes (born July 30, 1977) is an A...   \n..                                                ...   \n95  David Alexander Liddell (born June 15, 1966 in...   \n96  Tiffany Travis (born March 20, 1978) is an Ame...   \n97  Raymond Francis Clevenger (born June 6, 1926) ...   \n98  Robert E. \\\"Bob\\\" Holthus (June 24, 1934 – Nov...   \n99  Ellei Johndro (Shadowscene) is an American bor...   \n\n                       people              label  \n0                G. H. Diggle       Chess Player  \n1                Moody Jolley      Horse Trainer  \n2         Adriano Goldschmied   Fashion Designer  \n3   Hannibal Lafayette Godwin        Congressman  \n4                 Josh Haynes     Martial Artist  \n..                        ...                ...  \n95               Dave Liddell    Baseball Player  \n96             Tiffany Travis  Basketball Player  \n97       Raymond F. Clevenger        Congressman  \n98          Robert E. Holthus      Horse Trainer  \n99              Ellei Johndro       Photographer  \n\n[100 rows x 4 columns]",
      "text/html": "<div>\n<style scoped>\n    .dataframe tbody tr th:only-of-type {\n        vertical-align: middle;\n    }\n\n    .dataframe tbody tr th {\n        vertical-align: top;\n    }\n\n    .dataframe thead th {\n        text-align: right;\n    }\n</style>\n<table border=\"1\" class=\"dataframe\">\n  <thead>\n    <tr style=\"text-align: right;\">\n      <th></th>\n      <th>output</th>\n      <th>input</th>\n      <th>people</th>\n      <th>label</th>\n    </tr>\n  </thead>\n  <tbody>\n    <tr>\n      <th>0</th>\n      <td>A person (born in the early 20th century – pas...</td>\n      <td>Geoffrey Harber Diggle (6 December 1902 – 13 F...</td>\n      <td>G. H. Diggle</td>\n      <td>Chess Player</td>\n    </tr>\n    <tr>\n      <th>1</th>\n      <td>A person (Date of Birth - Date of Death) was a...</td>\n      <td>Moody Jolley (March 23, 1910 - February, 1976)...</td>\n      <td>Moody Jolley</td>\n      <td>Horse Trainer</td>\n    </tr>\n    <tr>\n      <th>2</th>\n      <td>A fashion designer who specializes in a popula...</td>\n      <td>Adriano Goldschmied is an Italian fashion desi...</td>\n      <td>Adriano Goldschmied</td>\n      <td>Fashion Designer</td>\n    </tr>\n    <tr>\n      <th>3</th>\n      <td>A person (Date of Birth – Date of Death) was a...</td>\n      <td>Hannibal Lafayette Godwin (November 3, 1873 – ...</td>\n      <td>Hannibal Lafayette Godwin</td>\n      <td>Congressman</td>\n    </tr>\n    <tr>\n      <th>4</th>\n      <td>A person (born on a date in 1977) is an Americ...</td>\n      <td>Joshua Lee Haynes (born July 30, 1977) is an A...</td>\n      <td>Josh Haynes</td>\n      <td>Martial Artist</td>\n    </tr>\n    <tr>\n      <th>...</th>\n      <td>...</td>\n      <td>...</td>\n      <td>...</td>\n      <td>...</td>\n    </tr>\n    <tr>\n      <th>95</th>\n      <td>A person (born on a date in a city in Californ...</td>\n      <td>David Alexander Liddell (born June 15, 1966 in...</td>\n      <td>Dave Liddell</td>\n      <td>Baseball Player</td>\n    </tr>\n    <tr>\n      <th>96</th>\n      <td>A person (born on a date in 1978) is a former ...</td>\n      <td>Tiffany Travis (born March 20, 1978) is an Ame...</td>\n      <td>Tiffany Travis</td>\n      <td>Basketball Player</td>\n    </tr>\n    <tr>\n      <th>97</th>\n      <td>A person was a U.S. Representative from a U.S....</td>\n      <td>Raymond Francis Clevenger (born June 6, 1926) ...</td>\n      <td>Raymond F. Clevenger</td>\n      <td>Congressman</td>\n    </tr>\n    <tr>\n      <th>98</th>\n      <td>A person (Date of Birth – Date of Death) was a...</td>\n      <td>Robert E. \\\"Bob\\\" Holthus (June 24, 1934 – Nov...</td>\n      <td>Robert E. Holthus</td>\n      <td>Horse Trainer</td>\n    </tr>\n    <tr>\n      <th>99</th>\n      <td>A person is an American born photographer, mus...</td>\n      <td>Ellei Johndro (Shadowscene) is an American bor...</td>\n      <td>Ellei Johndro</td>\n      <td>Photographer</td>\n    </tr>\n  </tbody>\n</table>\n<p>100 rows × 4 columns</p>\n</div>"
     },
     "execution_count": 20,
     "metadata": {},
     "output_type": "execute_result"
    }
   ],
   "source": [
    "df_sft.head(100)"
   ],
   "metadata": {
    "collapsed": false,
    "ExecuteTime": {
     "end_time": "2025-05-13T14:06:39.455158Z",
     "start_time": "2025-05-13T14:06:39.449466Z"
    }
   },
   "id": "5533d5f5a2a18ee7",
   "execution_count": 20
  },
  {
   "cell_type": "code",
   "outputs": [
    {
     "data": {
      "text/plain": "(726, 1938, 1938)"
     },
     "execution_count": 17,
     "metadata": {},
     "output_type": "execute_result"
    }
   ],
   "source": [
    "df_dpo = df_dpo[\"original\"].drop_duplicates()\n",
    "df_sft = df_sft[\"input\"].drop_duplicates()\n",
    "df_train = df_train[\"text\"].drop_duplicates()\n",
    "len(df_dpo), len(df_sft), len(df_train)"
   ],
   "metadata": {
    "collapsed": false,
    "ExecuteTime": {
     "end_time": "2025-05-13T14:05:52.693836Z",
     "start_time": "2025-05-13T14:05:52.668024Z"
    }
   },
   "id": "7fcb052c569e49fa",
   "execution_count": 17
  },
  {
   "cell_type": "code",
   "outputs": [
    {
     "data": {
      "text/plain": "                                            original  \\\n0  Sirio Maccioni (born 1932 in Montecatini Terme...   \n1  Sirio Maccioni (born 1932 in Montecatini Terme...   \n2  José Raúl Capablanca y Graupera (19 November 1...   \n3  José Raúl Capablanca y Graupera (19 November 1...   \n4  Quint Elroy Kessenich (born November 1967) is ...   \n5  Quint Elroy Kessenich (born November 1967) is ...   \n6  Quint Elroy Kessenich (born November 1967) is ...   \n7  Quint Elroy Kessenich (born November 1967) is ...   \n8  Quint Elroy Kessenich (born November 1967) is ...   \n9  John Doxie Moore (February 13, 1911 – April 23...   \n\n                                              chosen  \\\n0  A person (born in the 20th century in Europe) ...   \n1  A person (born in the 20th century in Europe) ...   \n2  An individual (born in one era – passed away i...   \n3  An individual (born in one era – passed away i...   \n4  A sportscaster (born in the late 1960s) is a b...   \n5  A sportscaster (born in the late 1960s) is a b...   \n6  A sportscaster (born in the late 1960s) is a b...   \n7  A sportscaster (born in the late 1960s) is a b...   \n8  A sportscaster (born in the late 1960s) is a b...   \n9  A person (Date of Birth – Date of Death) was a...   \n\n                                              reject                people  \\\n0  A person (born in 1932 in a town in Italy) is ...        Sirio Maccioni   \n1  A person (born in the 20th century in Europe) ...        Sirio Maccioni   \n2  A person (born on a date in the late 19th cent...  José Raúl Capablanca   \n3  A person (born in a certain era – died in a di...  José Raúl Capablanca   \n4  A person (born November 1967) is an American s...       Quint Kessenich   \n5  A sportscaster (born in the late 1960s) is a b...       Quint Kessenich   \n6  A sportscaster (born in the late 1960s) is a b...       Quint Kessenich   \n7  A sportscaster (born in the late 1960s) is a b...       Quint Kessenich   \n8  A sportscaster (born in the late 1960s) is a b...       Quint Kessenich   \n9  A person (Date of Birth – Date of Death) was a...           Doxie Moore   \n\n               label  \n0               Chef  \n1               Chef  \n2       Chess Player  \n3       Chess Player  \n4    Lacrosse Player  \n5    Lacrosse Player  \n6    Lacrosse Player  \n7    Lacrosse Player  \n8    Lacrosse Player  \n9  Basketball Player  ",
      "text/html": "<div>\n<style scoped>\n    .dataframe tbody tr th:only-of-type {\n        vertical-align: middle;\n    }\n\n    .dataframe tbody tr th {\n        vertical-align: top;\n    }\n\n    .dataframe thead th {\n        text-align: right;\n    }\n</style>\n<table border=\"1\" class=\"dataframe\">\n  <thead>\n    <tr style=\"text-align: right;\">\n      <th></th>\n      <th>original</th>\n      <th>chosen</th>\n      <th>reject</th>\n      <th>people</th>\n      <th>label</th>\n    </tr>\n  </thead>\n  <tbody>\n    <tr>\n      <th>0</th>\n      <td>Sirio Maccioni (born 1932 in Montecatini Terme...</td>\n      <td>A person (born in the 20th century in Europe) ...</td>\n      <td>A person (born in 1932 in a town in Italy) is ...</td>\n      <td>Sirio Maccioni</td>\n      <td>Chef</td>\n    </tr>\n    <tr>\n      <th>1</th>\n      <td>Sirio Maccioni (born 1932 in Montecatini Terme...</td>\n      <td>A person (born in the 20th century in Europe) ...</td>\n      <td>A person (born in the 20th century in Europe) ...</td>\n      <td>Sirio Maccioni</td>\n      <td>Chef</td>\n    </tr>\n    <tr>\n      <th>2</th>\n      <td>José Raúl Capablanca y Graupera (19 November 1...</td>\n      <td>An individual (born in one era – passed away i...</td>\n      <td>A person (born on a date in the late 19th cent...</td>\n      <td>José Raúl Capablanca</td>\n      <td>Chess Player</td>\n    </tr>\n    <tr>\n      <th>3</th>\n      <td>José Raúl Capablanca y Graupera (19 November 1...</td>\n      <td>An individual (born in one era – passed away i...</td>\n      <td>A person (born in a certain era – died in a di...</td>\n      <td>José Raúl Capablanca</td>\n      <td>Chess Player</td>\n    </tr>\n    <tr>\n      <th>4</th>\n      <td>Quint Elroy Kessenich (born November 1967) is ...</td>\n      <td>A sportscaster (born in the late 1960s) is a b...</td>\n      <td>A person (born November 1967) is an American s...</td>\n      <td>Quint Kessenich</td>\n      <td>Lacrosse Player</td>\n    </tr>\n    <tr>\n      <th>5</th>\n      <td>Quint Elroy Kessenich (born November 1967) is ...</td>\n      <td>A sportscaster (born in the late 1960s) is a b...</td>\n      <td>A sportscaster (born in the late 1960s) is a b...</td>\n      <td>Quint Kessenich</td>\n      <td>Lacrosse Player</td>\n    </tr>\n    <tr>\n      <th>6</th>\n      <td>Quint Elroy Kessenich (born November 1967) is ...</td>\n      <td>A sportscaster (born in the late 1960s) is a b...</td>\n      <td>A sportscaster (born in the late 1960s) is a b...</td>\n      <td>Quint Kessenich</td>\n      <td>Lacrosse Player</td>\n    </tr>\n    <tr>\n      <th>7</th>\n      <td>Quint Elroy Kessenich (born November 1967) is ...</td>\n      <td>A sportscaster (born in the late 1960s) is a b...</td>\n      <td>A sportscaster (born in the late 1960s) is a b...</td>\n      <td>Quint Kessenich</td>\n      <td>Lacrosse Player</td>\n    </tr>\n    <tr>\n      <th>8</th>\n      <td>Quint Elroy Kessenich (born November 1967) is ...</td>\n      <td>A sportscaster (born in the late 1960s) is a b...</td>\n      <td>A sportscaster (born in the late 1960s) is a b...</td>\n      <td>Quint Kessenich</td>\n      <td>Lacrosse Player</td>\n    </tr>\n    <tr>\n      <th>9</th>\n      <td>John Doxie Moore (February 13, 1911 – April 23...</td>\n      <td>A person (Date of Birth – Date of Death) was a...</td>\n      <td>A person (Date of Birth – Date of Death) was a...</td>\n      <td>Doxie Moore</td>\n      <td>Basketball Player</td>\n    </tr>\n  </tbody>\n</table>\n</div>"
     },
     "execution_count": 11,
     "metadata": {},
     "output_type": "execute_result"
    }
   ],
   "source": [],
   "metadata": {
    "collapsed": false,
    "ExecuteTime": {
     "end_time": "2025-05-13T13:56:53.135435Z",
     "start_time": "2025-05-13T13:56:53.129945Z"
    }
   },
   "id": "da2d605bccd0aecb",
   "execution_count": 11
  },
  {
   "cell_type": "code",
   "outputs": [
    {
     "data": {
      "text/plain": "(                                             original  \\\n 0   Sirio Maccioni (born 1932 in Montecatini Terme...   \n 1   Sirio Maccioni (born 1932 in Montecatini Terme...   \n 2   José Raúl Capablanca y Graupera (19 November 1...   \n 3   José Raúl Capablanca y Graupera (19 November 1...   \n 4   Quint Elroy Kessenich (born November 1967) is ...   \n 5   Quint Elroy Kessenich (born November 1967) is ...   \n 6   Quint Elroy Kessenich (born November 1967) is ...   \n 7   Quint Elroy Kessenich (born November 1967) is ...   \n 8   Quint Elroy Kessenich (born November 1967) is ...   \n 9   John Doxie Moore (February 13, 1911 – April 23...   \n 10  John Doxie Moore (February 13, 1911 – April 23...   \n 11  John Doxie Moore (February 13, 1911 – April 23...   \n 12  John Doxie Moore (February 13, 1911 – April 23...   \n 13  Shraga Weinberg (born March 25, 1966 in Petach...   \n 14  Shraga Weinberg (born March 25, 1966 in Petach...   \n 15  Shraga Weinberg (born March 25, 1966 in Petach...   \n 16  Shraga Weinberg (born March 25, 1966 in Petach...   \n 17  Zelda Wynn Valdes (June 28, 1905 – September 2...   \n 18  Zelda Wynn Valdes (June 28, 1905 – September 2...   \n 19  Ryan J. Boyle (born November 22, 1981 in Hunt ...   \n \n                                                chosen  \n 0   A person (born in the 20th century in Europe) ...  \n 1   A person (born in the 20th century in Europe) ...  \n 2   An individual (born in one era – passed away i...  \n 3   An individual (born in one era – passed away i...  \n 4   A sportscaster (born in the late 1960s) is a b...  \n 5   A sportscaster (born in the late 1960s) is a b...  \n 6   A sportscaster (born in the late 1960s) is a b...  \n 7   A sportscaster (born in the late 1960s) is a b...  \n 8   A sportscaster (born in the late 1960s) is a b...  \n 9   A person (Date of Birth – Date of Death) was a...  \n 10  A person (Date of Birth – Date of Death) was a...  \n 11  A person (Date of Birth – Date of Death) was a...  \n 12  A person (Date of Birth – Date of Death) was a...  \n 13  A person (born on a date in a city) is a profe...  \n 14  A person (born on a date in a city) is a profe...  \n 15  A person (born on a date in a city) is a profe...  \n 16  A person (born on a date in a city) is a profe...  \n 17  A person (Date of Birth - Date of Death) was i...  \n 18  A person (Date of Birth - Date of Death) was i...  \n 19  A person (born on a date in a place) is a form...  ,\n (249, 5))"
     },
     "execution_count": 9,
     "metadata": {},
     "output_type": "execute_result"
    }
   ],
   "source": [
    "df[[\"original\", \"chosen\"]].head(20), df.shape"
   ],
   "metadata": {
    "collapsed": false,
    "ExecuteTime": {
     "end_time": "2025-05-13T13:56:36.331064Z",
     "start_time": "2025-05-13T13:56:36.318036Z"
    }
   },
   "id": "7fe904931e77c9e6",
   "execution_count": 9
  },
  {
   "cell_type": "code",
   "outputs": [
    {
     "name": "stdout",
     "output_type": "stream",
     "text": [
      "(726, 1)\n"
     ]
    },
    {
     "data": {
      "text/plain": "(Index(['text', 'anonymized'], dtype='object'),\n                                                 text  anonymized\n 0  Adriano Goldschmied is an Italian fashion desi...           0\n 1  (This name uses Spanish naming customs: the fi...           0\n 3  Gautam Bhatia graduated in Fine Arts and went ...           0\n 4  William Archibald Scott Brown, known as Archie...           0\n 5  Brett H. McGurk (born April 20, 1973) is an Am...           0)"
     },
     "execution_count": 5,
     "metadata": {},
     "output_type": "execute_result"
    }
   ],
   "source": [
    "df_original = df[[\"original\"]].copy()\n",
    "df_original = df_original.drop_duplicates()\n",
    "print(df_original.shape)\n",
    "df_original.rename(columns={\"original\": \"text\"}, inplace=True)\n",
    "df_original[\"anonymized\"] = 0\n",
    "df_original.columns, df_original.head(5)"
   ],
   "metadata": {
    "collapsed": false,
    "ExecuteTime": {
     "end_time": "2025-05-07T08:18:25.940078Z",
     "start_time": "2025-05-07T08:18:25.912734Z"
    }
   },
   "id": "8222b8c8fdf5d00c",
   "execution_count": 5
  },
  {
   "cell_type": "code",
   "outputs": [
    {
     "name": "stdout",
     "output_type": "stream",
     "text": [
      "(726, 1)\n"
     ]
    },
    {
     "data": {
      "text/plain": "(Index(['text', 'anonymized'], dtype='object'),\n                                                 text  anonymized\n 0  A fashion designer who specializes in a popula...           1\n 1  This name follows a specific cultural naming c...           1\n 3  A person graduated in Fine Arts and went on to...           1\n 4  A racing enthusiast, known as the driver, (bor...           1\n 5  A person (born on a date in a year) is a profe...           1)"
     },
     "execution_count": 6,
     "metadata": {},
     "output_type": "execute_result"
    }
   ],
   "source": [
    "df_anonymized = df[[\"chosen\"]].copy()\n",
    "df_anonymized = df_anonymized.drop_duplicates()\n",
    "print(df_anonymized.shape)\n",
    "df_anonymized.rename(columns={\"chosen\": \"text\"}, inplace=True)\n",
    "df_anonymized[\"anonymized\"] = 1\n",
    "df_anonymized.columns, df_anonymized.head(5)"
   ],
   "metadata": {
    "collapsed": false,
    "ExecuteTime": {
     "end_time": "2025-05-07T08:18:25.957511Z",
     "start_time": "2025-05-07T08:18:25.920153Z"
    }
   },
   "id": "cb09293b3d750b94",
   "execution_count": 6
  },
  {
   "cell_type": "code",
   "outputs": [],
   "source": [
    "df_combined = pd.concat([df_original, df_anonymized], axis=0, ignore_index=True)\n",
    "df_combined.to_csv(\"DB-bio/anonymized_text_train.csv\", index=False)"
   ],
   "metadata": {
    "collapsed": false,
    "ExecuteTime": {
     "end_time": "2025-05-07T08:18:25.996309Z",
     "start_time": "2025-05-07T08:18:25.923524Z"
    }
   },
   "id": "99089be26620212e",
   "execution_count": 7
  },
  {
   "cell_type": "code",
   "outputs": [
    {
     "data": {
      "text/plain": "(1452, 2)"
     },
     "execution_count": 8,
     "metadata": {},
     "output_type": "execute_result"
    }
   ],
   "source": [
    "df_combined.shape"
   ],
   "metadata": {
    "collapsed": false,
    "ExecuteTime": {
     "end_time": "2025-05-07T08:18:26.004756Z",
     "start_time": "2025-05-07T08:18:25.951446Z"
    }
   },
   "id": "e27d4f772ee30318",
   "execution_count": 8
  },
  {
   "cell_type": "code",
   "outputs": [
    {
     "name": "stdout",
     "output_type": "stream",
     "text": [
      "(98, 1)\n",
      "(98, 1)\n"
     ]
    },
    {
     "data": {
      "text/plain": "(Index(['text', 'anonymized'], dtype='object'),\n                                                  text  anonymized\n 0   Sirio Maccioni (born 1932 in Montecatini Terme...           0\n 2   José Raúl Capablanca y Graupera (19 November 1...           0\n 4   Quint Elroy Kessenich (born November 1967) is ...           0\n 9   John Doxie Moore (February 13, 1911 – April 23...           0\n 13  Shraga Weinberg (born March 25, 1966 in Petach...           0,\n Index(['text', 'anonymized'], dtype='object'),\n                                                  text  anonymized\n 0   A person (born in the 20th century in Europe) ...           1\n 2   An individual (born in one era – passed away i...           1\n 4   A sportscaster (born in the late 1960s) is a b...           1\n 9   A person (Date of Birth – Date of Death) was a...           1\n 13  A person (born on a date in a city) is a profe...           1,\n (196, 2))"
     },
     "execution_count": 6,
     "metadata": {},
     "output_type": "execute_result"
    }
   ],
   "source": [
    "df_val = read_jsonl(\"DB-bio/val_dpo.jsonl\")\n",
    "\n",
    "df_val_original = df_val[[\"original\"]].copy()\n",
    "df_val_original = df_val_original.drop_duplicates()\n",
    "print(df_val_original.shape)\n",
    "df_val_original.rename(columns={\"original\": \"text\"}, inplace=True)\n",
    "df_val_original[\"anonymized\"] = 0\n",
    "\n",
    "df_val_anonymized = df_val[[\"chosen\"]].copy()\n",
    "df_val_anonymized = df_val_anonymized.drop_duplicates()\n",
    "print(df_val_anonymized.shape)\n",
    "df_val_anonymized.rename(columns={\"chosen\": \"text\"}, inplace=True)\n",
    "df_val_anonymized[\"anonymized\"] = 1\n",
    "\n",
    "df_val_combined = pd.concat([df_val_original, df_val_anonymized], axis=0, ignore_index=True)\n",
    "df_val_combined.to_csv(\"DB-bio/anonymized_text_val.csv\", index=False)\n",
    "\n",
    "df_val_original.columns, df_val_original.head(5), df_val_anonymized.columns, df_val_anonymized.head(5), df_val_combined.shape"
   ],
   "metadata": {
    "collapsed": false,
    "ExecuteTime": {
     "end_time": "2025-05-13T09:54:28.386021Z",
     "start_time": "2025-05-13T09:54:28.358791Z"
    }
   },
   "id": "cc1e9fbe5c7c229",
   "execution_count": 6
  },
  {
   "cell_type": "code",
   "outputs": [
    {
     "data": {
      "text/plain": "                                              output  \\\n0  A person (born in the early 20th century – pas...   \n1  A person (Date of Birth - Date of Death) was a...   \n2  A fashion designer who specializes in a popula...   \n3  A person (Date of Birth – Date of Death) was a...   \n4  A person (born on a date in 1977) is an Americ...   \n\n                                               input  \\\n0  Geoffrey Harber Diggle (6 December 1902 – 13 F...   \n1  Moody Jolley (March 23, 1910 - February, 1976)...   \n2  Adriano Goldschmied is an Italian fashion desi...   \n3  Hannibal Lafayette Godwin (November 3, 1873 – ...   \n4  Joshua Lee Haynes (born July 30, 1977) is an A...   \n\n                      people             label  \n0               G. H. Diggle      Chess Player  \n1               Moody Jolley     Horse Trainer  \n2        Adriano Goldschmied  Fashion Designer  \n3  Hannibal Lafayette Godwin       Congressman  \n4                Josh Haynes    Martial Artist  ",
      "text/html": "<div>\n<style scoped>\n    .dataframe tbody tr th:only-of-type {\n        vertical-align: middle;\n    }\n\n    .dataframe tbody tr th {\n        vertical-align: top;\n    }\n\n    .dataframe thead th {\n        text-align: right;\n    }\n</style>\n<table border=\"1\" class=\"dataframe\">\n  <thead>\n    <tr style=\"text-align: right;\">\n      <th></th>\n      <th>output</th>\n      <th>input</th>\n      <th>people</th>\n      <th>label</th>\n    </tr>\n  </thead>\n  <tbody>\n    <tr>\n      <th>0</th>\n      <td>A person (born in the early 20th century – pas...</td>\n      <td>Geoffrey Harber Diggle (6 December 1902 – 13 F...</td>\n      <td>G. H. Diggle</td>\n      <td>Chess Player</td>\n    </tr>\n    <tr>\n      <th>1</th>\n      <td>A person (Date of Birth - Date of Death) was a...</td>\n      <td>Moody Jolley (March 23, 1910 - February, 1976)...</td>\n      <td>Moody Jolley</td>\n      <td>Horse Trainer</td>\n    </tr>\n    <tr>\n      <th>2</th>\n      <td>A fashion designer who specializes in a popula...</td>\n      <td>Adriano Goldschmied is an Italian fashion desi...</td>\n      <td>Adriano Goldschmied</td>\n      <td>Fashion Designer</td>\n    </tr>\n    <tr>\n      <th>3</th>\n      <td>A person (Date of Birth – Date of Death) was a...</td>\n      <td>Hannibal Lafayette Godwin (November 3, 1873 – ...</td>\n      <td>Hannibal Lafayette Godwin</td>\n      <td>Congressman</td>\n    </tr>\n    <tr>\n      <th>4</th>\n      <td>A person (born on a date in 1977) is an Americ...</td>\n      <td>Joshua Lee Haynes (born July 30, 1977) is an A...</td>\n      <td>Josh Haynes</td>\n      <td>Martial Artist</td>\n    </tr>\n  </tbody>\n</table>\n</div>"
     },
     "execution_count": 9,
     "metadata": {},
     "output_type": "execute_result"
    }
   ],
   "source": [
    "df2 = read_jsonl(\"DB-bio/train_sft.jsonl\")\n",
    "df2.head(5)"
   ],
   "metadata": {
    "collapsed": false,
    "ExecuteTime": {
     "end_time": "2025-05-07T08:18:26.013486Z",
     "start_time": "2025-05-07T08:18:25.954861Z"
    }
   },
   "id": "1b69c818c5d5649c",
   "execution_count": 9
  },
  {
   "cell_type": "code",
   "outputs": [
    {
     "data": {
      "text/plain": "                                                text     l1          l2  \\\n0  Geoffrey Harber Diggle (6 December 1902 – 13 F...  Agent     Athlete   \n1  Moody Jolley (March 23, 1910 - February, 1976)...  Agent      Person   \n2  Adriano Goldschmied is an Italian fashion desi...  Agent      Artist   \n3  Hannibal Lafayette Godwin (November 3, 1873 – ...  Agent  Politician   \n4  Joshua Lee Haynes (born July 30, 1977) is an A...  Agent     Athlete   \n\n                l3                  wiki_name  word_count             label  \\\n0      ChessPlayer               G._H._Diggle         423      Chess Player   \n1     HorseTrainer               Moody_Jolley         238     Horse Trainer   \n2  FashionDesigner        Adriano_Goldschmied         164  Fashion Designer   \n3      Congressman  Hannibal_Lafayette_Godwin         200       Congressman   \n4    MartialArtist                Josh_Haynes         160    Martial Artist   \n\n                      people  \n0               G. H. Diggle  \n1               Moody Jolley  \n2        Adriano Goldschmied  \n3  Hannibal Lafayette Godwin  \n4                Josh Haynes  ",
      "text/html": "<div>\n<style scoped>\n    .dataframe tbody tr th:only-of-type {\n        vertical-align: middle;\n    }\n\n    .dataframe tbody tr th {\n        vertical-align: top;\n    }\n\n    .dataframe thead th {\n        text-align: right;\n    }\n</style>\n<table border=\"1\" class=\"dataframe\">\n  <thead>\n    <tr style=\"text-align: right;\">\n      <th></th>\n      <th>text</th>\n      <th>l1</th>\n      <th>l2</th>\n      <th>l3</th>\n      <th>wiki_name</th>\n      <th>word_count</th>\n      <th>label</th>\n      <th>people</th>\n    </tr>\n  </thead>\n  <tbody>\n    <tr>\n      <th>0</th>\n      <td>Geoffrey Harber Diggle (6 December 1902 – 13 F...</td>\n      <td>Agent</td>\n      <td>Athlete</td>\n      <td>ChessPlayer</td>\n      <td>G._H._Diggle</td>\n      <td>423</td>\n      <td>Chess Player</td>\n      <td>G. H. Diggle</td>\n    </tr>\n    <tr>\n      <th>1</th>\n      <td>Moody Jolley (March 23, 1910 - February, 1976)...</td>\n      <td>Agent</td>\n      <td>Person</td>\n      <td>HorseTrainer</td>\n      <td>Moody_Jolley</td>\n      <td>238</td>\n      <td>Horse Trainer</td>\n      <td>Moody Jolley</td>\n    </tr>\n    <tr>\n      <th>2</th>\n      <td>Adriano Goldschmied is an Italian fashion desi...</td>\n      <td>Agent</td>\n      <td>Artist</td>\n      <td>FashionDesigner</td>\n      <td>Adriano_Goldschmied</td>\n      <td>164</td>\n      <td>Fashion Designer</td>\n      <td>Adriano Goldschmied</td>\n    </tr>\n    <tr>\n      <th>3</th>\n      <td>Hannibal Lafayette Godwin (November 3, 1873 – ...</td>\n      <td>Agent</td>\n      <td>Politician</td>\n      <td>Congressman</td>\n      <td>Hannibal_Lafayette_Godwin</td>\n      <td>200</td>\n      <td>Congressman</td>\n      <td>Hannibal Lafayette Godwin</td>\n    </tr>\n    <tr>\n      <th>4</th>\n      <td>Joshua Lee Haynes (born July 30, 1977) is an A...</td>\n      <td>Agent</td>\n      <td>Athlete</td>\n      <td>MartialArtist</td>\n      <td>Josh_Haynes</td>\n      <td>160</td>\n      <td>Martial Artist</td>\n      <td>Josh Haynes</td>\n    </tr>\n  </tbody>\n</table>\n</div>"
     },
     "execution_count": 7,
     "metadata": {},
     "output_type": "execute_result"
    }
   ],
   "source": [
    "df3 = read_jsonl(\"DB-bio/train.jsonl\")\n",
    "df3.head(5)"
   ],
   "metadata": {
    "collapsed": false,
    "ExecuteTime": {
     "end_time": "2025-05-13T12:45:55.242417Z",
     "start_time": "2025-05-13T12:45:55.188100Z"
    }
   },
   "id": "873f698968bb917d",
   "execution_count": 7
  },
  {
   "cell_type": "code",
   "outputs": [
    {
     "data": {
      "text/plain": "1938"
     },
     "execution_count": 8,
     "metadata": {},
     "output_type": "execute_result"
    }
   ],
   "source": [
    "len(df3)"
   ],
   "metadata": {
    "collapsed": false,
    "ExecuteTime": {
     "end_time": "2025-05-13T12:45:59.909318Z",
     "start_time": "2025-05-13T12:45:59.904228Z"
    }
   },
   "id": "2f3cd896f53c6333",
   "execution_count": 8
  },
  {
   "cell_type": "code",
   "outputs": [
    {
     "data": {
      "text/plain": "                                              output  \\\n0  A person (born on a date in 1986) is a chess g...   \n1  A person (1732–1800) was an architect who prim...   \n2  A person, CM (a date in the early 20th century...   \n3  A person (born on a date in the early 20th cen...   \n4  A person is a retired Canadian undefeated mult...   \n\n                                               input                  people  \\\n0  Stephen J. Gordon (born 4 September 1986) is a...       Stephen J. Gordon   \n1  Christian Jensen Mørup (1732–1800) was a Danis...  Christian Jensen Mørup   \n2  John Henry Patrick Avison, CM (April 25, 1915 ...             John Avison   \n3  Randall Pennington Gumpert (January 23, 1918 –...           Randy Gumpert   \n4  Peter \\\"Sugarfoot\\\" Cunningham is a retired Ca...         Pete Cunningham   \n\n                    label  \n0            Chess Player  \n1               Architect  \n2  Classical Music Artist  \n3         Baseball Player  \n4          Martial Artist  ",
      "text/html": "<div>\n<style scoped>\n    .dataframe tbody tr th:only-of-type {\n        vertical-align: middle;\n    }\n\n    .dataframe tbody tr th {\n        vertical-align: top;\n    }\n\n    .dataframe thead th {\n        text-align: right;\n    }\n</style>\n<table border=\"1\" class=\"dataframe\">\n  <thead>\n    <tr style=\"text-align: right;\">\n      <th></th>\n      <th>output</th>\n      <th>input</th>\n      <th>people</th>\n      <th>label</th>\n    </tr>\n  </thead>\n  <tbody>\n    <tr>\n      <th>0</th>\n      <td>A person (born on a date in 1986) is a chess g...</td>\n      <td>Stephen J. Gordon (born 4 September 1986) is a...</td>\n      <td>Stephen J. Gordon</td>\n      <td>Chess Player</td>\n    </tr>\n    <tr>\n      <th>1</th>\n      <td>A person (1732–1800) was an architect who prim...</td>\n      <td>Christian Jensen Mørup (1732–1800) was a Danis...</td>\n      <td>Christian Jensen Mørup</td>\n      <td>Architect</td>\n    </tr>\n    <tr>\n      <th>2</th>\n      <td>A person, CM (a date in the early 20th century...</td>\n      <td>John Henry Patrick Avison, CM (April 25, 1915 ...</td>\n      <td>John Avison</td>\n      <td>Classical Music Artist</td>\n    </tr>\n    <tr>\n      <th>3</th>\n      <td>A person (born on a date in the early 20th cen...</td>\n      <td>Randall Pennington Gumpert (January 23, 1918 –...</td>\n      <td>Randy Gumpert</td>\n      <td>Baseball Player</td>\n    </tr>\n    <tr>\n      <th>4</th>\n      <td>A person is a retired Canadian undefeated mult...</td>\n      <td>Peter \\\"Sugarfoot\\\" Cunningham is a retired Ca...</td>\n      <td>Pete Cunningham</td>\n      <td>Martial Artist</td>\n    </tr>\n  </tbody>\n</table>\n</div>"
     },
     "execution_count": 38,
     "metadata": {},
     "output_type": "execute_result"
    }
   ],
   "source": [
    "df_val = read_jsonl(\"DB-bio/val_sft.jsonl\")\n",
    "df_val.head(5)"
   ],
   "metadata": {
    "collapsed": false,
    "ExecuteTime": {
     "end_time": "2025-05-13T14:16:19.279996Z",
     "start_time": "2025-05-13T14:16:19.269899Z"
    }
   },
   "id": "5a0d38b8dc51e796",
   "execution_count": 38
  },
  {
   "cell_type": "code",
   "outputs": [],
   "source": [],
   "metadata": {
    "collapsed": false
   },
   "id": "e0b11748594a8b30"
  }
 ],
 "metadata": {
  "kernelspec": {
   "display_name": "Python 3",
   "language": "python",
   "name": "python3"
  },
  "language_info": {
   "codemirror_mode": {
    "name": "ipython",
    "version": 2
   },
   "file_extension": ".py",
   "mimetype": "text/x-python",
   "name": "python",
   "nbconvert_exporter": "python",
   "pygments_lexer": "ipython2",
   "version": "2.7.6"
  }
 },
 "nbformat": 4,
 "nbformat_minor": 5
}
