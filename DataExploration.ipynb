{
 "cells": [
  {
   "cell_type": "code",
   "outputs": [],
   "source": [
    "from read_jsonl import read_jsonl\n",
    "import numpy as np\n",
    "import pandas as pd"
   ],
   "metadata": {
    "collapsed": false,
    "ExecuteTime": {
     "end_time": "2025-05-07T08:18:25.869723Z",
     "start_time": "2025-05-07T08:18:25.654497Z"
    }
   },
   "id": "535e8666a1cf2168",
   "execution_count": 1
  },
  {
   "cell_type": "code",
   "outputs": [
    {
     "data": {
      "text/plain": "Index(['original', 'chosen', 'reject', 'people', 'label'], dtype='object')"
     },
     "execution_count": 2,
     "metadata": {},
     "output_type": "execute_result"
    }
   ],
   "source": [
    "df = read_jsonl(\"DB-bio/train_dpo.jsonl\")\n",
    "df.columns"
   ],
   "metadata": {
    "collapsed": false,
    "ExecuteTime": {
     "end_time": "2025-05-07T08:18:25.897159Z",
     "start_time": "2025-05-07T08:18:25.870235Z"
    }
   },
   "id": "191d6d182010ff31",
   "execution_count": 2
  },
  {
   "cell_type": "code",
   "outputs": [
    {
     "data": {
      "text/plain": "                                            original  \\\n0  Adriano Goldschmied is an Italian fashion desi...   \n1  (This name uses Spanish naming customs: the fi...   \n2  (This name uses Spanish naming customs: the fi...   \n3  Gautam Bhatia graduated in Fine Arts and went ...   \n4  William Archibald Scott Brown, known as Archie...   \n5  Brett H. McGurk (born April 20, 1973) is an Am...   \n6  Brett H. McGurk (born April 20, 1973) is an Am...   \n7  Brett H. McGurk (born April 20, 1973) is an Am...   \n8  Brett H. McGurk (born April 20, 1973) is an Am...   \n9  Peter Aerts (born October 25, 1970) is a Dutch...   \n\n                                              chosen  \\\n0  A fashion designer who specializes in a popula...   \n1  This name follows a specific cultural naming c...   \n2  This name follows a specific cultural naming c...   \n3  A person graduated in Fine Arts and went on to...   \n4  A racing enthusiast, known as the driver, (bor...   \n5  A person (born on a date in a year) is a profe...   \n6  A person (born on a date in a year) is a profe...   \n7  A person (born on a date in a year) is a profe...   \n8  A person (born on a date in a year) is a profe...   \n9  A person (born in a year) is a semi-retired at...   \n\n                                              reject               people  \\\n0  A person is a fashion designer from Italy who ...  Adriano Goldschmied   \n1  This name uses Spanish naming customs: the fir...      Aroldis Chapman   \n2  This name follows a specific cultural naming c...      Aroldis Chapman   \n3  A person graduated in Fine Arts and went on to...        Gautam Bhatia   \n4  A person, known as Archie, (born in the late 1...   Archie Scott Brown   \n5  A person (born on a date in a year) is an Amer...      Brett H. McGurk   \n6  A person (born on a date in a year) is a lawye...      Brett H. McGurk   \n7  A person (born on a date in a year) is a profe...      Brett H. McGurk   \n8  A person (born on a date in a year) is a profe...      Brett H. McGurk   \n9  A person (born on a date in 1970) is a Dutch s...          Peter Aerts   \n\n               label  \n0   Fashion Designer  \n1    Baseball Player  \n2    Baseball Player  \n3          Architect  \n4  Formula One Racer  \n5         Ambassador  \n6         Ambassador  \n7         Ambassador  \n8         Ambassador  \n9     Martial Artist  ",
      "text/html": "<div>\n<style scoped>\n    .dataframe tbody tr th:only-of-type {\n        vertical-align: middle;\n    }\n\n    .dataframe tbody tr th {\n        vertical-align: top;\n    }\n\n    .dataframe thead th {\n        text-align: right;\n    }\n</style>\n<table border=\"1\" class=\"dataframe\">\n  <thead>\n    <tr style=\"text-align: right;\">\n      <th></th>\n      <th>original</th>\n      <th>chosen</th>\n      <th>reject</th>\n      <th>people</th>\n      <th>label</th>\n    </tr>\n  </thead>\n  <tbody>\n    <tr>\n      <th>0</th>\n      <td>Adriano Goldschmied is an Italian fashion desi...</td>\n      <td>A fashion designer who specializes in a popula...</td>\n      <td>A person is a fashion designer from Italy who ...</td>\n      <td>Adriano Goldschmied</td>\n      <td>Fashion Designer</td>\n    </tr>\n    <tr>\n      <th>1</th>\n      <td>(This name uses Spanish naming customs: the fi...</td>\n      <td>This name follows a specific cultural naming c...</td>\n      <td>This name uses Spanish naming customs: the fir...</td>\n      <td>Aroldis Chapman</td>\n      <td>Baseball Player</td>\n    </tr>\n    <tr>\n      <th>2</th>\n      <td>(This name uses Spanish naming customs: the fi...</td>\n      <td>This name follows a specific cultural naming c...</td>\n      <td>This name follows a specific cultural naming c...</td>\n      <td>Aroldis Chapman</td>\n      <td>Baseball Player</td>\n    </tr>\n    <tr>\n      <th>3</th>\n      <td>Gautam Bhatia graduated in Fine Arts and went ...</td>\n      <td>A person graduated in Fine Arts and went on to...</td>\n      <td>A person graduated in Fine Arts and went on to...</td>\n      <td>Gautam Bhatia</td>\n      <td>Architect</td>\n    </tr>\n    <tr>\n      <th>4</th>\n      <td>William Archibald Scott Brown, known as Archie...</td>\n      <td>A racing enthusiast, known as the driver, (bor...</td>\n      <td>A person, known as Archie, (born in the late 1...</td>\n      <td>Archie Scott Brown</td>\n      <td>Formula One Racer</td>\n    </tr>\n    <tr>\n      <th>5</th>\n      <td>Brett H. McGurk (born April 20, 1973) is an Am...</td>\n      <td>A person (born on a date in a year) is a profe...</td>\n      <td>A person (born on a date in a year) is an Amer...</td>\n      <td>Brett H. McGurk</td>\n      <td>Ambassador</td>\n    </tr>\n    <tr>\n      <th>6</th>\n      <td>Brett H. McGurk (born April 20, 1973) is an Am...</td>\n      <td>A person (born on a date in a year) is a profe...</td>\n      <td>A person (born on a date in a year) is a lawye...</td>\n      <td>Brett H. McGurk</td>\n      <td>Ambassador</td>\n    </tr>\n    <tr>\n      <th>7</th>\n      <td>Brett H. McGurk (born April 20, 1973) is an Am...</td>\n      <td>A person (born on a date in a year) is a profe...</td>\n      <td>A person (born on a date in a year) is a profe...</td>\n      <td>Brett H. McGurk</td>\n      <td>Ambassador</td>\n    </tr>\n    <tr>\n      <th>8</th>\n      <td>Brett H. McGurk (born April 20, 1973) is an Am...</td>\n      <td>A person (born on a date in a year) is a profe...</td>\n      <td>A person (born on a date in a year) is a profe...</td>\n      <td>Brett H. McGurk</td>\n      <td>Ambassador</td>\n    </tr>\n    <tr>\n      <th>9</th>\n      <td>Peter Aerts (born October 25, 1970) is a Dutch...</td>\n      <td>A person (born in a year) is a semi-retired at...</td>\n      <td>A person (born on a date in 1970) is a Dutch s...</td>\n      <td>Peter Aerts</td>\n      <td>Martial Artist</td>\n    </tr>\n  </tbody>\n</table>\n</div>"
     },
     "execution_count": 3,
     "metadata": {},
     "output_type": "execute_result"
    }
   ],
   "source": [
    "df.head(10)"
   ],
   "metadata": {
    "collapsed": false,
    "ExecuteTime": {
     "end_time": "2025-05-07T08:18:25.902208Z",
     "start_time": "2025-05-07T08:18:25.895698Z"
    }
   },
   "id": "3c3a76dc19ae1932",
   "execution_count": 3
  },
  {
   "cell_type": "code",
   "outputs": [
    {
     "data": {
      "text/plain": "(                                            original  \\\n 0  Adriano Goldschmied is an Italian fashion desi...   \n 1  (This name uses Spanish naming customs: the fi...   \n 2  (This name uses Spanish naming customs: the fi...   \n 3  Gautam Bhatia graduated in Fine Arts and went ...   \n 4  William Archibald Scott Brown, known as Archie...   \n \n                                               chosen  \n 0  A fashion designer who specializes in a popula...  \n 1  This name follows a specific cultural naming c...  \n 2  This name follows a specific cultural naming c...  \n 3  A person graduated in Fine Arts and went on to...  \n 4  A racing enthusiast, known as the driver, (bor...  ,\n (1984, 5))"
     },
     "execution_count": 4,
     "metadata": {},
     "output_type": "execute_result"
    }
   ],
   "source": [
    "df[[\"original\", \"chosen\"]].head(5), df.shape"
   ],
   "metadata": {
    "collapsed": false,
    "ExecuteTime": {
     "end_time": "2025-05-07T08:18:25.907392Z",
     "start_time": "2025-05-07T08:18:25.902993Z"
    }
   },
   "id": "7fe904931e77c9e6",
   "execution_count": 4
  },
  {
   "cell_type": "code",
   "outputs": [
    {
     "name": "stdout",
     "output_type": "stream",
     "text": [
      "(726, 1)\n"
     ]
    },
    {
     "data": {
      "text/plain": "(Index(['text', 'anonymized'], dtype='object'),\n                                                 text  anonymized\n 0  Adriano Goldschmied is an Italian fashion desi...           0\n 1  (This name uses Spanish naming customs: the fi...           0\n 3  Gautam Bhatia graduated in Fine Arts and went ...           0\n 4  William Archibald Scott Brown, known as Archie...           0\n 5  Brett H. McGurk (born April 20, 1973) is an Am...           0)"
     },
     "execution_count": 5,
     "metadata": {},
     "output_type": "execute_result"
    }
   ],
   "source": [
    "df_original = df[[\"original\"]].copy()\n",
    "df_original = df_original.drop_duplicates()\n",
    "print(df_original.shape)\n",
    "df_original.rename(columns={\"original\": \"text\"}, inplace=True)\n",
    "df_original[\"anonymized\"] = 0\n",
    "df_original.columns, df_original.head(5)"
   ],
   "metadata": {
    "collapsed": false,
    "ExecuteTime": {
     "end_time": "2025-05-07T08:18:25.940078Z",
     "start_time": "2025-05-07T08:18:25.912734Z"
    }
   },
   "id": "8222b8c8fdf5d00c",
   "execution_count": 5
  },
  {
   "cell_type": "code",
   "outputs": [
    {
     "name": "stdout",
     "output_type": "stream",
     "text": [
      "(726, 1)\n"
     ]
    },
    {
     "data": {
      "text/plain": "(Index(['text', 'anonymized'], dtype='object'),\n                                                 text  anonymized\n 0  A fashion designer who specializes in a popula...           1\n 1  This name follows a specific cultural naming c...           1\n 3  A person graduated in Fine Arts and went on to...           1\n 4  A racing enthusiast, known as the driver, (bor...           1\n 5  A person (born on a date in a year) is a profe...           1)"
     },
     "execution_count": 6,
     "metadata": {},
     "output_type": "execute_result"
    }
   ],
   "source": [
    "df_anonymized = df[[\"chosen\"]].copy()\n",
    "df_anonymized = df_anonymized.drop_duplicates()\n",
    "print(df_anonymized.shape)\n",
    "df_anonymized.rename(columns={\"chosen\": \"text\"}, inplace=True)\n",
    "df_anonymized[\"anonymized\"] = 1\n",
    "df_anonymized.columns, df_anonymized.head(5)"
   ],
   "metadata": {
    "collapsed": false,
    "ExecuteTime": {
     "end_time": "2025-05-07T08:18:25.957511Z",
     "start_time": "2025-05-07T08:18:25.920153Z"
    }
   },
   "id": "cb09293b3d750b94",
   "execution_count": 6
  },
  {
   "cell_type": "code",
   "outputs": [],
   "source": [
    "df_combined = pd.concat([df_original, df_anonymized], axis=0, ignore_index=True)\n",
    "df_combined.to_csv(\"DB-bio/anonymized_text.csv\", index=False)"
   ],
   "metadata": {
    "collapsed": false,
    "ExecuteTime": {
     "end_time": "2025-05-07T08:18:25.996309Z",
     "start_time": "2025-05-07T08:18:25.923524Z"
    }
   },
   "id": "99089be26620212e",
   "execution_count": 7
  },
  {
   "cell_type": "code",
   "outputs": [
    {
     "data": {
      "text/plain": "(1452, 2)"
     },
     "execution_count": 8,
     "metadata": {},
     "output_type": "execute_result"
    }
   ],
   "source": [
    "df_combined.shape"
   ],
   "metadata": {
    "collapsed": false,
    "ExecuteTime": {
     "end_time": "2025-05-07T08:18:26.004756Z",
     "start_time": "2025-05-07T08:18:25.951446Z"
    }
   },
   "id": "e27d4f772ee30318",
   "execution_count": 8
  },
  {
   "cell_type": "code",
   "outputs": [
    {
     "data": {
      "text/plain": "                                              output  \\\n0  A person (born in the early 20th century – pas...   \n1  A person (Date of Birth - Date of Death) was a...   \n2  A fashion designer who specializes in a popula...   \n3  A person (Date of Birth – Date of Death) was a...   \n4  A person (born on a date in 1977) is an Americ...   \n\n                                               input  \\\n0  Geoffrey Harber Diggle (6 December 1902 – 13 F...   \n1  Moody Jolley (March 23, 1910 - February, 1976)...   \n2  Adriano Goldschmied is an Italian fashion desi...   \n3  Hannibal Lafayette Godwin (November 3, 1873 – ...   \n4  Joshua Lee Haynes (born July 30, 1977) is an A...   \n\n                      people             label  \n0               G. H. Diggle      Chess Player  \n1               Moody Jolley     Horse Trainer  \n2        Adriano Goldschmied  Fashion Designer  \n3  Hannibal Lafayette Godwin       Congressman  \n4                Josh Haynes    Martial Artist  ",
      "text/html": "<div>\n<style scoped>\n    .dataframe tbody tr th:only-of-type {\n        vertical-align: middle;\n    }\n\n    .dataframe tbody tr th {\n        vertical-align: top;\n    }\n\n    .dataframe thead th {\n        text-align: right;\n    }\n</style>\n<table border=\"1\" class=\"dataframe\">\n  <thead>\n    <tr style=\"text-align: right;\">\n      <th></th>\n      <th>output</th>\n      <th>input</th>\n      <th>people</th>\n      <th>label</th>\n    </tr>\n  </thead>\n  <tbody>\n    <tr>\n      <th>0</th>\n      <td>A person (born in the early 20th century – pas...</td>\n      <td>Geoffrey Harber Diggle (6 December 1902 – 13 F...</td>\n      <td>G. H. Diggle</td>\n      <td>Chess Player</td>\n    </tr>\n    <tr>\n      <th>1</th>\n      <td>A person (Date of Birth - Date of Death) was a...</td>\n      <td>Moody Jolley (March 23, 1910 - February, 1976)...</td>\n      <td>Moody Jolley</td>\n      <td>Horse Trainer</td>\n    </tr>\n    <tr>\n      <th>2</th>\n      <td>A fashion designer who specializes in a popula...</td>\n      <td>Adriano Goldschmied is an Italian fashion desi...</td>\n      <td>Adriano Goldschmied</td>\n      <td>Fashion Designer</td>\n    </tr>\n    <tr>\n      <th>3</th>\n      <td>A person (Date of Birth – Date of Death) was a...</td>\n      <td>Hannibal Lafayette Godwin (November 3, 1873 – ...</td>\n      <td>Hannibal Lafayette Godwin</td>\n      <td>Congressman</td>\n    </tr>\n    <tr>\n      <th>4</th>\n      <td>A person (born on a date in 1977) is an Americ...</td>\n      <td>Joshua Lee Haynes (born July 30, 1977) is an A...</td>\n      <td>Josh Haynes</td>\n      <td>Martial Artist</td>\n    </tr>\n  </tbody>\n</table>\n</div>"
     },
     "execution_count": 9,
     "metadata": {},
     "output_type": "execute_result"
    }
   ],
   "source": [
    "df2 = read_jsonl(\"DB-bio/train_sft.jsonl\")\n",
    "df2.head(5)"
   ],
   "metadata": {
    "collapsed": false,
    "ExecuteTime": {
     "end_time": "2025-05-07T08:18:26.013486Z",
     "start_time": "2025-05-07T08:18:25.954861Z"
    }
   },
   "id": "1b69c818c5d5649c",
   "execution_count": 9
  },
  {
   "cell_type": "code",
   "outputs": [
    {
     "data": {
      "text/plain": "                                                text     l1          l2  \\\n0  Geoffrey Harber Diggle (6 December 1902 – 13 F...  Agent     Athlete   \n1  Moody Jolley (March 23, 1910 - February, 1976)...  Agent      Person   \n2  Adriano Goldschmied is an Italian fashion desi...  Agent      Artist   \n3  Hannibal Lafayette Godwin (November 3, 1873 – ...  Agent  Politician   \n4  Joshua Lee Haynes (born July 30, 1977) is an A...  Agent     Athlete   \n\n                l3                  wiki_name  word_count             label  \\\n0      ChessPlayer               G._H._Diggle         423      Chess Player   \n1     HorseTrainer               Moody_Jolley         238     Horse Trainer   \n2  FashionDesigner        Adriano_Goldschmied         164  Fashion Designer   \n3      Congressman  Hannibal_Lafayette_Godwin         200       Congressman   \n4    MartialArtist                Josh_Haynes         160    Martial Artist   \n\n                      people  \n0               G. H. Diggle  \n1               Moody Jolley  \n2        Adriano Goldschmied  \n3  Hannibal Lafayette Godwin  \n4                Josh Haynes  ",
      "text/html": "<div>\n<style scoped>\n    .dataframe tbody tr th:only-of-type {\n        vertical-align: middle;\n    }\n\n    .dataframe tbody tr th {\n        vertical-align: top;\n    }\n\n    .dataframe thead th {\n        text-align: right;\n    }\n</style>\n<table border=\"1\" class=\"dataframe\">\n  <thead>\n    <tr style=\"text-align: right;\">\n      <th></th>\n      <th>text</th>\n      <th>l1</th>\n      <th>l2</th>\n      <th>l3</th>\n      <th>wiki_name</th>\n      <th>word_count</th>\n      <th>label</th>\n      <th>people</th>\n    </tr>\n  </thead>\n  <tbody>\n    <tr>\n      <th>0</th>\n      <td>Geoffrey Harber Diggle (6 December 1902 – 13 F...</td>\n      <td>Agent</td>\n      <td>Athlete</td>\n      <td>ChessPlayer</td>\n      <td>G._H._Diggle</td>\n      <td>423</td>\n      <td>Chess Player</td>\n      <td>G. H. Diggle</td>\n    </tr>\n    <tr>\n      <th>1</th>\n      <td>Moody Jolley (March 23, 1910 - February, 1976)...</td>\n      <td>Agent</td>\n      <td>Person</td>\n      <td>HorseTrainer</td>\n      <td>Moody_Jolley</td>\n      <td>238</td>\n      <td>Horse Trainer</td>\n      <td>Moody Jolley</td>\n    </tr>\n    <tr>\n      <th>2</th>\n      <td>Adriano Goldschmied is an Italian fashion desi...</td>\n      <td>Agent</td>\n      <td>Artist</td>\n      <td>FashionDesigner</td>\n      <td>Adriano_Goldschmied</td>\n      <td>164</td>\n      <td>Fashion Designer</td>\n      <td>Adriano Goldschmied</td>\n    </tr>\n    <tr>\n      <th>3</th>\n      <td>Hannibal Lafayette Godwin (November 3, 1873 – ...</td>\n      <td>Agent</td>\n      <td>Politician</td>\n      <td>Congressman</td>\n      <td>Hannibal_Lafayette_Godwin</td>\n      <td>200</td>\n      <td>Congressman</td>\n      <td>Hannibal Lafayette Godwin</td>\n    </tr>\n    <tr>\n      <th>4</th>\n      <td>Joshua Lee Haynes (born July 30, 1977) is an A...</td>\n      <td>Agent</td>\n      <td>Athlete</td>\n      <td>MartialArtist</td>\n      <td>Josh_Haynes</td>\n      <td>160</td>\n      <td>Martial Artist</td>\n      <td>Josh Haynes</td>\n    </tr>\n  </tbody>\n</table>\n</div>"
     },
     "execution_count": 10,
     "metadata": {},
     "output_type": "execute_result"
    }
   ],
   "source": [
    "df3 = read_jsonl(\"DB-bio/train.jsonl\")\n",
    "df3.head(5)"
   ],
   "metadata": {
    "collapsed": false,
    "ExecuteTime": {
     "end_time": "2025-05-07T08:18:26.032728Z",
     "start_time": "2025-05-07T08:18:25.980275Z"
    }
   },
   "id": "873f698968bb917d",
   "execution_count": 10
  },
  {
   "cell_type": "code",
   "outputs": [],
   "source": [],
   "metadata": {
    "collapsed": false,
    "ExecuteTime": {
     "end_time": "2025-05-07T08:18:26.040269Z",
     "start_time": "2025-05-07T08:18:26.007246Z"
    }
   },
   "id": "2f3cd896f53c6333",
   "execution_count": 11
  }
 ],
 "metadata": {
  "kernelspec": {
   "display_name": "Python 3",
   "language": "python",
   "name": "python3"
  },
  "language_info": {
   "codemirror_mode": {
    "name": "ipython",
    "version": 2
   },
   "file_extension": ".py",
   "mimetype": "text/x-python",
   "name": "python",
   "nbconvert_exporter": "python",
   "pygments_lexer": "ipython2",
   "version": "2.7.6"
  }
 },
 "nbformat": 4,
 "nbformat_minor": 5
}
