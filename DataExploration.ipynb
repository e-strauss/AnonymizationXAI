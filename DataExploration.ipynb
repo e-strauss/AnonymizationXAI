{
 "cells": [
  {
   "cell_type": "code",
   "execution_count": 1,
   "id": "initial_id",
   "metadata": {
    "collapsed": true,
    "ExecuteTime": {
     "end_time": "2025-05-05T10:22:32.634686Z",
     "start_time": "2025-05-05T10:22:32.625099Z"
    }
   },
   "outputs": [],
   "source": [
    "with open(\"DB-bio/train.jsonl\") as file:\n",
    "    lines = file.readlines()"
   ]
  },
  {
   "cell_type": "code",
   "outputs": [],
   "source": [
    "import json\n",
    "\n",
    "lines_parsed = [json.loads(line) for line in lines]\n",
    "column_names = [c for c in lines_parsed[0].keys()]\n",
    "\n",
    "# Assert same schema\n",
    "for line in lines_parsed:\n",
    "    for col in column_names:\n",
    "        assert col in line.keys()\n",
    "    for col in line.keys():\n",
    "        assert col in column_names\n",
    "\n",
    "column_data = [[] for _ in column_names]\n",
    "for line in lines_parsed:\n",
    "    for i,col in enumerate(column_names):\n",
    "        column_data[i].append(line[col])   "
   ],
   "metadata": {
    "collapsed": false,
    "ExecuteTime": {
     "end_time": "2025-05-05T10:22:32.663883Z",
     "start_time": "2025-05-05T10:22:32.636402Z"
    }
   },
   "id": "48b4dd71f13c313f",
   "execution_count": 2
  },
  {
   "cell_type": "code",
   "outputs": [],
   "source": [
    "import pandas as pd\n",
    "df = pd.DataFrame(list(zip(*column_data)), columns=column_names)"
   ],
   "metadata": {
    "collapsed": false,
    "ExecuteTime": {
     "end_time": "2025-05-05T10:22:32.910580Z",
     "start_time": "2025-05-05T10:22:32.664891Z"
    }
   },
   "id": "b7a959a69858cee",
   "execution_count": 3
  },
  {
   "cell_type": "code",
   "outputs": [
    {
     "data": {
      "text/plain": "                                                text     l1          l2  \\\n0  Geoffrey Harber Diggle (6 December 1902 – 13 F...  Agent     Athlete   \n1  Moody Jolley (March 23, 1910 - February, 1976)...  Agent      Person   \n2  Adriano Goldschmied is an Italian fashion desi...  Agent      Artist   \n3  Hannibal Lafayette Godwin (November 3, 1873 – ...  Agent  Politician   \n4  Joshua Lee Haynes (born July 30, 1977) is an A...  Agent     Athlete   \n5  (This name uses Spanish naming customs: the fi...  Agent     Athlete   \n6  Gautam Bhatia graduated in Fine Arts and went ...  Agent      Person   \n7  Zyrafete Gashi (14 August 1957 - 30 July 2013)...  Agent      Artist   \n8  Gail Charles Goodrich Jr. (born April 23, 1943...  Agent     Athlete   \n9  Falko Bindrich (born October 17, 1990) is a Ge...  Agent     Athlete   \n\n                 l3                  wiki_name  word_count              label  \\\n0       ChessPlayer               G._H._Diggle         423       Chess Player   \n1      HorseTrainer               Moody_Jolley         238      Horse Trainer   \n2   FashionDesigner        Adriano_Goldschmied         164   Fashion Designer   \n3       Congressman  Hannibal_Lafayette_Godwin         200        Congressman   \n4     MartialArtist                Josh_Haynes         160     Martial Artist   \n5    BaseballPlayer            Aroldis_Chapman         257    Baseball Player   \n6         Architect              Gautam_Bhatia         208          Architect   \n7          Comedian             Zyrafete_Gashi         149           Comedian   \n8  BasketballPlayer              Gail_Goodrich         152  Basketball Player   \n9       ChessPlayer             Falko_Bindrich         198       Chess Player   \n\n                      people  \n0               G. H. Diggle  \n1               Moody Jolley  \n2        Adriano Goldschmied  \n3  Hannibal Lafayette Godwin  \n4                Josh Haynes  \n5            Aroldis Chapman  \n6              Gautam Bhatia  \n7             Zyrafete Gashi  \n8              Gail Goodrich  \n9             Falko Bindrich  ",
      "text/html": "<div>\n<style scoped>\n    .dataframe tbody tr th:only-of-type {\n        vertical-align: middle;\n    }\n\n    .dataframe tbody tr th {\n        vertical-align: top;\n    }\n\n    .dataframe thead th {\n        text-align: right;\n    }\n</style>\n<table border=\"1\" class=\"dataframe\">\n  <thead>\n    <tr style=\"text-align: right;\">\n      <th></th>\n      <th>text</th>\n      <th>l1</th>\n      <th>l2</th>\n      <th>l3</th>\n      <th>wiki_name</th>\n      <th>word_count</th>\n      <th>label</th>\n      <th>people</th>\n    </tr>\n  </thead>\n  <tbody>\n    <tr>\n      <th>0</th>\n      <td>Geoffrey Harber Diggle (6 December 1902 – 13 F...</td>\n      <td>Agent</td>\n      <td>Athlete</td>\n      <td>ChessPlayer</td>\n      <td>G._H._Diggle</td>\n      <td>423</td>\n      <td>Chess Player</td>\n      <td>G. H. Diggle</td>\n    </tr>\n    <tr>\n      <th>1</th>\n      <td>Moody Jolley (March 23, 1910 - February, 1976)...</td>\n      <td>Agent</td>\n      <td>Person</td>\n      <td>HorseTrainer</td>\n      <td>Moody_Jolley</td>\n      <td>238</td>\n      <td>Horse Trainer</td>\n      <td>Moody Jolley</td>\n    </tr>\n    <tr>\n      <th>2</th>\n      <td>Adriano Goldschmied is an Italian fashion desi...</td>\n      <td>Agent</td>\n      <td>Artist</td>\n      <td>FashionDesigner</td>\n      <td>Adriano_Goldschmied</td>\n      <td>164</td>\n      <td>Fashion Designer</td>\n      <td>Adriano Goldschmied</td>\n    </tr>\n    <tr>\n      <th>3</th>\n      <td>Hannibal Lafayette Godwin (November 3, 1873 – ...</td>\n      <td>Agent</td>\n      <td>Politician</td>\n      <td>Congressman</td>\n      <td>Hannibal_Lafayette_Godwin</td>\n      <td>200</td>\n      <td>Congressman</td>\n      <td>Hannibal Lafayette Godwin</td>\n    </tr>\n    <tr>\n      <th>4</th>\n      <td>Joshua Lee Haynes (born July 30, 1977) is an A...</td>\n      <td>Agent</td>\n      <td>Athlete</td>\n      <td>MartialArtist</td>\n      <td>Josh_Haynes</td>\n      <td>160</td>\n      <td>Martial Artist</td>\n      <td>Josh Haynes</td>\n    </tr>\n    <tr>\n      <th>5</th>\n      <td>(This name uses Spanish naming customs: the fi...</td>\n      <td>Agent</td>\n      <td>Athlete</td>\n      <td>BaseballPlayer</td>\n      <td>Aroldis_Chapman</td>\n      <td>257</td>\n      <td>Baseball Player</td>\n      <td>Aroldis Chapman</td>\n    </tr>\n    <tr>\n      <th>6</th>\n      <td>Gautam Bhatia graduated in Fine Arts and went ...</td>\n      <td>Agent</td>\n      <td>Person</td>\n      <td>Architect</td>\n      <td>Gautam_Bhatia</td>\n      <td>208</td>\n      <td>Architect</td>\n      <td>Gautam Bhatia</td>\n    </tr>\n    <tr>\n      <th>7</th>\n      <td>Zyrafete Gashi (14 August 1957 - 30 July 2013)...</td>\n      <td>Agent</td>\n      <td>Artist</td>\n      <td>Comedian</td>\n      <td>Zyrafete_Gashi</td>\n      <td>149</td>\n      <td>Comedian</td>\n      <td>Zyrafete Gashi</td>\n    </tr>\n    <tr>\n      <th>8</th>\n      <td>Gail Charles Goodrich Jr. (born April 23, 1943...</td>\n      <td>Agent</td>\n      <td>Athlete</td>\n      <td>BasketballPlayer</td>\n      <td>Gail_Goodrich</td>\n      <td>152</td>\n      <td>Basketball Player</td>\n      <td>Gail Goodrich</td>\n    </tr>\n    <tr>\n      <th>9</th>\n      <td>Falko Bindrich (born October 17, 1990) is a Ge...</td>\n      <td>Agent</td>\n      <td>Athlete</td>\n      <td>ChessPlayer</td>\n      <td>Falko_Bindrich</td>\n      <td>198</td>\n      <td>Chess Player</td>\n      <td>Falko Bindrich</td>\n    </tr>\n  </tbody>\n</table>\n</div>"
     },
     "execution_count": 4,
     "metadata": {},
     "output_type": "execute_result"
    }
   ],
   "source": [
    "df.head(10)"
   ],
   "metadata": {
    "collapsed": false,
    "ExecuteTime": {
     "end_time": "2025-05-05T10:22:32.924561Z",
     "start_time": "2025-05-05T10:22:32.911629Z"
    }
   },
   "id": "7fe904931e77c9e6",
   "execution_count": 4
  },
  {
   "cell_type": "code",
   "outputs": [],
   "source": [],
   "metadata": {
    "collapsed": false,
    "ExecuteTime": {
     "end_time": "2025-05-05T10:22:32.928387Z",
     "start_time": "2025-05-05T10:22:32.926270Z"
    }
   },
   "id": "1b69c818c5d5649c",
   "execution_count": 4
  }
 ],
 "metadata": {
  "kernelspec": {
   "display_name": "Python 3",
   "language": "python",
   "name": "python3"
  },
  "language_info": {
   "codemirror_mode": {
    "name": "ipython",
    "version": 2
   },
   "file_extension": ".py",
   "mimetype": "text/x-python",
   "name": "python",
   "nbconvert_exporter": "python",
   "pygments_lexer": "ipython2",
   "version": "2.7.6"
  }
 },
 "nbformat": 4,
 "nbformat_minor": 5
}
